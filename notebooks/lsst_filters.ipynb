{
 "cells": [
  {
   "cell_type": "markdown",
   "metadata": {},
   "source": [
    "# LSST Filters\n",
    "\n",
    "This notebook explores the LSST filter set and the fiducial LSST atmosphere\n"
   ]
  },
  {
   "cell_type": "code",
   "execution_count": null,
   "metadata": {},
   "outputs": [],
   "source": [
    "import sys\n",
    "from pathlib import Path\n",
    "sys.path.insert(0, '../')\n",
    "\n",
    "import numpy as np\n",
    "import sncosmo\n",
    "from astropy.table import Table\n",
    "from matplotlib import pyplot as plt\n",
    "from scipy.stats import binned_statistic\n",
    "from sn_analysis import filters\n",
    "from pwv_kpno import pwv_atm\n"
   ]
  },
  {
   "cell_type": "code",
   "execution_count": null,
   "metadata": {},
   "outputs": [],
   "source": [
    "fig_dir = Path('.') / 'notebook_figs' / 'lsst_filters'\n",
    "fig_dir.mkdir(exist_ok=True, parents=True)\n",
    "\n",
    "# Make sncosmo aware of the LSST filter set\n",
    "filters.register_lsst_filters(force=True)\n"
   ]
  },
  {
   "cell_type": "markdown",
   "metadata": {},
   "source": [
    "The LSST filter set is provided in a way that allows us to separate the hardware and atmospheric contributions to the overall bandpass response function. This is useful because it allows us to add out own customized atmospheric component."
   ]
  },
  {
   "cell_type": "code",
   "execution_count": null,
   "metadata": {},
   "outputs": [],
   "source": [
    "def plot_lsst_filters():\n",
    "    \"\"\"Plot the response curves for the LLST hardware and filters\"\"\"\n",
    "    \n",
    "    fig, (left_ax, right_ax) = plt.subplots(1, 2, sharex=True, sharey=True, figsize=(12, 6))\n",
    "\n",
    "    # Transmissions that are NOT reported on a per band basis\n",
    "    detector = sncosmo.get_bandpass('lsst_detector')\n",
    "    lenses = sncosmo.get_bandpass('lsst_lenses')\n",
    "    mirror = sncosmo.get_bandpass('lsst_mirrors')\n",
    "    atm = sncosmo.get_bandpass('lsst_atmos_std')\n",
    "    \n",
    "    # Plot hardware transmissions on left axis\n",
    "    left_ax.plot(detector.wave, detector.trans, label='Detector')\n",
    "    left_ax.plot(lenses.wave, lenses.trans, label='Lenses')\n",
    "    left_ax.plot(mirror.wave, mirror.trans, label='Mirrors')\n",
    "    \n",
    "    # Non hardware goes on the right axis\n",
    "    right_ax.plot(atm.wave, atm.trans, color='C0', label='Atm.')\n",
    "    \n",
    "    # Band specific trnamsissions\n",
    "    for i, band_letter in enumerate('ugrizy'):\n",
    "        band_total = sncosmo.get_bandpass(f'lsst_total_{band_letter}')\n",
    "        hardware = sncosmo.get_bandpass(f'lsst_hardware_{band_letter}')\n",
    "        filter_only = sncosmo.get_bandpass(f'lsst_filter_{band_letter}')\n",
    "        \n",
    "        left_ax.fill_between(filter_only.wave, filter_only.trans, color=f'C{i}', alpha=.2, label='Filters' if i == 0 else None)\n",
    "        left_ax.plot(hardware.wave, hardware.trans, color='k', label='All Hardware' if i == 0 else None)\n",
    "        \n",
    "        right_ax.plot(hardware.wave, hardware.trans, color='k', label='Hardware' if i == 0 else None)\n",
    "        right_ax.fill_between(band_total.wave, band_total.trans, alpha=.2, label='Bandpass' if i == 0 else None)\n",
    "        right_ax.plot(band_total.wave, hardware(band_total.wave) * atm(band_total.wave))\n",
    "        \n",
    "    left_ax.set_xlabel(r'Wavelength ($\\AA$)')\n",
    "    left_ax.set_ylabel('Transmission')\n",
    "    left_ax.set_xlim(3000, 11_000)\n",
    "    left_ax.set_ylim(0, 1)\n",
    "    left_ax.set_title('Hardware')\n",
    "    left_ax.legend(loc='lower right', framealpha=1)\n",
    "    \n",
    "    right_ax.set_xlabel(r'Wavelength ($\\AA$)')\n",
    "    right_ax.set_title('Bandpasses')\n",
    "    right_ax.legend(loc='upper left', framealpha=1)\n",
    "    "
   ]
  },
  {
   "cell_type": "code",
   "execution_count": null,
   "metadata": {},
   "outputs": [],
   "source": [
    "plot_lsst_filters()\n",
    "plt.savefig(fig_dir / 'filters_and_hardware.pdf')\n",
    "plt.show()\n"
   ]
  },
  {
   "cell_type": "markdown",
   "metadata": {},
   "source": [
    "Since we are sometimes interested in the specific effects of PWV absorption, we compare the reddest (largest) PWV absorption feature of the LSST standard atmosphere against our own atmospheric model (`pwv_kpno`). We compare the LSST atmosphere against PWV absorption for 4mm PWV binned at a 5 angstrom resolution."
   ]
  },
  {
   "cell_type": "code",
   "execution_count": null,
   "metadata": {},
   "outputs": [],
   "source": [
    "def fit_lsst_atm_continua(deg, *wave_ranges, lsst_atm='lsst_atmos_std'):\n",
    "    \"\"\"Fit the LSST atmosphere with a polynomial\n",
    "    \n",
    "    Args:\n",
    "        deg                (int): The degree of the fitted polynomial\n",
    "        *wave_ranges     (tuple): Start and end wavlengths of regions to fit\n",
    "        lsst_atm (str, Bandpass): The atmosphere to fit\n",
    "        \n",
    "    Returns:\n",
    "        - A tuple of fit parameters\n",
    "        - A function representing the fitted polynomial\n",
    "    \"\"\"\n",
    "\n",
    "    # Ensure the lsst_atm variable is a Bandpass object\n",
    "    lsst_atm = sncosmo.get_bandpass(lsst_atm)\n",
    "    \n",
    "    # Fitt the LSST transmission over the given wavelength ranges\n",
    "    wavelengths = np.concatenate([np.arange(*w) for w in wave_ranges])\n",
    "    fit_params = np.polyfit(wavelengths, lsst_atm(wavelengths), deg)\n",
    "\n",
    "    return fit_params, np.poly1d(fit_params)\n",
    "\n",
    "\n",
    "def trans_for_pwv(pwv, wavelengths, resolution):\n",
    "    \"\"\"Retrieve the pwv_kpno transmission at given wavelengths and resolution\n",
    "\n",
    "    Args:\n",
    "        pwv           (float): The PWV along line of sight\n",
    "        wavelengths (ndarray): Array of wavelengths to evaluate transmission at\n",
    "        resolution    (float): Resolution to bin transmission at\n",
    "\n",
    "    Returns:\n",
    "        An array of transmission values\n",
    "    \"\"\"\n",
    "\n",
    "    # Create bins that uniformly sample the given wavelength range\n",
    "    # at the given resolution\n",
    "    half_res = resolution / 2\n",
    "    bins = np.arange(\n",
    "        min(wavelengths) - half_res, \n",
    "        max(wavelengths) + half_res + resolution, \n",
    "        resolution)\n",
    "    \n",
    "    # Bin the atm model to the desired resolution\n",
    "    atm_model = pwv_atm.trans_for_pwv(pwv)\n",
    "    statistic_left, bin_edges_left, _ = binned_statistic(\n",
    "        atm_model['wavelength'],\n",
    "        atm_model['transmission'],\n",
    "        statistic='mean',\n",
    "        bins=bins[:-1]\n",
    "    )\n",
    "    \n",
    "    statistic_right, bin_edges_right, _ = binned_statistic(\n",
    "        atm_model['wavelength'],\n",
    "        atm_model['transmission'],\n",
    "        statistic='mean',\n",
    "        bins=bins[1:]\n",
    "    )\n",
    "\n",
    "    statistic = (statistic_right + statistic_left) / 2\n",
    "    \n",
    "    dx = atm_model['wavelength'][1] - atm_model['wavelength'][0]\n",
    "    bin_centers = bin_edges_left[:-1] + dx / 2\n",
    "    \n",
    "    # Evaluate the transmission at the desired wavelengths\n",
    "    return np.interp(wavelengths, bin_centers, statistic)\n",
    "\n"
   ]
  },
  {
   "cell_type": "code",
   "execution_count": null,
   "metadata": {},
   "outputs": [],
   "source": [
    "def plot_lsst_atm():\n",
    "    \"\"\"Plot the LSST standard atmosphere\"\"\"\n",
    "    \n",
    "    # Fit the LSST atmospheric continuum (i.e. the non-PWV transmission)\n",
    "    lsst_atm = sncosmo.get_bandpass('lsst_atmos_std')\n",
    "    continuum_wavelengths = [(8400, 8850), (10_000, 10_500)]\n",
    "    fit_params, fit_func = fit_lsst_atm_continua(2, *continuum_wavelengths, lsst_atm=lsst_atm)\n",
    "    fit_label = fr'{fit_params[0]: .1e} x$^2$ + {fit_params[1]: .1e} x + {fit_params[2]: .2f}'\n",
    "\n",
    "    fig, (left_ax, right_ax) = plt.subplots(1, 2, sharex=True, sharey=True, figsize=(12, 6))\n",
    "    \n",
    "    # Plot fit to the continuum in left axis\n",
    "    left_ax.plot(lsst_atm.wave, lsst_atm.trans, label='LSST Fiducial Atmosphere')\n",
    "    left_ax.plot(lsst_atm.wave, fit_func(lsst_atm.wave), label=fit_label)\n",
    "    for i, wave_range in enumerate(continuum_wavelengths):\n",
    "        label = 'Continuum' if i == 0 else None\n",
    "        left_ax.axvspan(*wave_range, color='C3', alpha=.1, label=label)\n",
    "        \n",
    "    left_ax.set_xlabel(r'Wavelength ($\\AA$)')\n",
    "    left_ax.set_ylabel('Total Transmission')\n",
    "    left_ax.set_xlim(8000, 11000)\n",
    "    left_ax.set_ylim(.5, 1)\n",
    "    left_ax.legend(loc='lower left', framealpha=1)\n",
    "    \n",
    "    # Plot comparison of normalized and modeled absorption feature\n",
    "    normalized_trans = lsst_atm.trans / fit_func(lsst_atm.wave)\n",
    "    modeled_trans = trans_for_pwv(4, lsst_atm.wave, 5)\n",
    "    \n",
    "    right_ax.plot(lsst_atm.wave, modeled_trans, color='grey', label='pwv_kpno')\n",
    "    right_ax.plot(lsst_atm.wave, normalized_trans, label='Normalized LSST')\n",
    "    \n",
    "    right_ax.set_xlabel(r'Wavelength ($\\AA$)')\n",
    "    right_ax.set_ylabel('PWV Transmission')\n",
    "    right_ax.legend(loc='lower left', framealpha=1)\n"
   ]
  },
  {
   "cell_type": "code",
   "execution_count": null,
   "metadata": {},
   "outputs": [],
   "source": [
    "plot_lsst_atm()\n",
    "plt.savefig(fig_dir / 'atmospheric_continuum_fit.pdf')\n",
    "plt.show()\n"
   ]
  },
  {
   "cell_type": "markdown",
   "metadata": {},
   "source": [
    "A rough minimization shows that our choice of resolution and PWV concentration in the above plot were reasonable. "
   ]
  },
  {
   "cell_type": "code",
   "execution_count": null,
   "metadata": {
    "scrolled": false
   },
   "outputs": [],
   "source": [
    "from scipy.optimize import minimize\n",
    "\n",
    "fit_params, fit_func = fit_lsst_atm_continua(2, (8400, 8850), (10_000, 10_500))\n",
    "\n",
    "lsst_atm = sncosmo.get_bandpass('lsst_atmos_std')\n",
    "lsst_atm_normalized = sncosmo.Bandpass(\n",
    "    wave=lsst_atm.wave, \n",
    "    trans=lsst_atm.trans / fit_func(lsst_atm.wave)\n",
    ")\n",
    "\n",
    "\n",
    "def summed_resids(x):\n",
    "    pwv, res = x\n",
    "    \n",
    "    wavelengths = np.arange(8400, 10_500)\n",
    "    modeled_trans = trans_for_pwv(pwv, wavelengths, res)\n",
    "    normalized_trans = lsst_atm_normalized(wavelengths)\n",
    "    stat = np.average(normalized_trans - modeled_trans)\n",
    "    return abs(stat)\n",
    "\n",
    "x0 = 4, 5\n",
    "res = minimize(summed_resids, x0, bounds=[(2, 10), (1, 10)], tol=.01)\n",
    "res.x\n"
   ]
  },
  {
   "cell_type": "code",
   "execution_count": null,
   "metadata": {},
   "outputs": [],
   "source": []
  }
 ],
 "metadata": {
  "kernelspec": {
   "display_name": "Python [conda env:sn-pwv] *",
   "language": "python",
   "name": "conda-env-sn-pwv-py"
  },
  "language_info": {
   "codemirror_mode": {
    "name": "ipython",
    "version": 3
   },
   "file_extension": ".py",
   "mimetype": "text/x-python",
   "name": "python",
   "nbconvert_exporter": "python",
   "pygments_lexer": "ipython3",
   "version": "3.7.7"
  }
 },
 "nbformat": 4,
 "nbformat_minor": 4
}
