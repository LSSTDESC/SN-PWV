{
 "cells": [
  {
   "cell_type": "markdown",
   "metadata": {},
   "source": [
    "# LSST Filters\n",
    "\n",
    "This notebook explores the LSST filter set and the fiducial LSST atmosphere\n"
   ]
  },
  {
   "cell_type": "code",
   "execution_count": null,
   "metadata": {},
   "outputs": [],
   "source": [
    "import sys\n",
    "from pathlib import Path\n",
    "sys.path.insert(0, '../')\n",
    "\n",
    "import numpy as np\n",
    "import sncosmo\n",
    "from matplotlib import pyplot as plt\n",
    "from pwv_kpno import pwv_atm\n",
    "\n",
    "from sn_analysis import filters\n",
    "from sn_analysis.transmission import trans_for_pwv\n",
    "from sn_analysis.reference import get_ref_star_dataframe, get_stellar_spectra\n"
   ]
  },
  {
   "cell_type": "code",
   "execution_count": null,
   "metadata": {},
   "outputs": [],
   "source": [
    "fig_dir = Path('.') / 'figs' / 'lsst_filters'\n",
    "fig_dir.mkdir(exist_ok=True, parents=True)\n",
    "\n",
    "# Make sncosmo aware of the LSST filter set\n",
    "filters.register_lsst_filters(force=True)\n"
   ]
  },
  {
   "cell_type": "markdown",
   "metadata": {},
   "source": [
    "## Baseline Filter Set\n",
    "\n",
    "The LSST filter set is provided in enough detail that we can separate the hardware and atmospheric contributions. This allows us to add out own customized atmospheric component."
   ]
  },
  {
   "cell_type": "code",
   "execution_count": null,
   "metadata": {},
   "outputs": [],
   "source": [
    "def plot_lsst_filters():\n",
    "    \"\"\"Plot the response curves for the LLST hardware and filters\"\"\"\n",
    "    \n",
    "    fig, (left_ax, right_ax) = plt.subplots(1, 2, sharex=True, sharey=True, figsize=(12, 6))\n",
    "\n",
    "    # Transmissions that are NOT reported on a per band basis\n",
    "    detector = sncosmo.get_bandpass('lsst_detector')\n",
    "    lenses = sncosmo.get_bandpass('lsst_lenses')\n",
    "    mirror = sncosmo.get_bandpass('lsst_mirrors')\n",
    "    atm = sncosmo.get_bandpass('lsst_atmos_std')\n",
    "    \n",
    "    # Plot hardware transmissions on left axis\n",
    "    left_ax.plot(detector.wave, detector.trans, label='Detector')\n",
    "    left_ax.plot(lenses.wave, lenses.trans, label='Lenses')\n",
    "    left_ax.plot(mirror.wave, mirror.trans, label='Mirrors')\n",
    "    \n",
    "    # Non hardware goes on the right axis\n",
    "    right_ax.plot(atm.wave, atm.trans, color='C0', label='LSST Atm.')\n",
    "    \n",
    "    # Band specific trnamsissions\n",
    "    for i, band_letter in enumerate('ugrizy'):\n",
    "        band_total = sncosmo.get_bandpass(f'lsst_total_{band_letter}')\n",
    "        hardware = sncosmo.get_bandpass(f'lsst_hardware_{band_letter}')\n",
    "        filter_only = sncosmo.get_bandpass(f'lsst_filter_{band_letter}')\n",
    "        \n",
    "        left_ax.fill_between(filter_only.wave, filter_only.trans, color=f'C{i}', alpha=.2, label='Filters' if i == 0 else None)\n",
    "        left_ax.plot(hardware.wave, hardware.trans, color='k', label='All Hardware' if i == 0 else None)\n",
    "        \n",
    "        right_ax.plot(hardware.wave, hardware.trans, color='k', label='Hardware' if i == 0 else None)\n",
    "        right_ax.fill_between(band_total.wave, band_total.trans, alpha=.2, label='Bandpass' if i == 0 else None)\n",
    "        right_ax.plot(band_total.wave, hardware(band_total.wave) * atm(band_total.wave))\n",
    "        \n",
    "    left_ax.set_xlabel(r'Wavelength ($\\AA$)')\n",
    "    left_ax.set_ylabel('Transmission')\n",
    "    left_ax.set_xlim(3000, 11_000)\n",
    "    left_ax.set_ylim(0, 1)\n",
    "    left_ax.set_title('Hardware')\n",
    "    left_ax.legend(loc='lower right', framealpha=1)\n",
    "    \n",
    "    right_ax.set_xlabel(r'Wavelength ($\\AA$)')\n",
    "    right_ax.set_title('Total Response')\n",
    "    right_ax.legend(loc='upper left', framealpha=1)\n",
    "    "
   ]
  },
  {
   "cell_type": "code",
   "execution_count": null,
   "metadata": {},
   "outputs": [],
   "source": [
    "plot_lsst_filters()\n",
    "plt.savefig(fig_dir / 'filters_and_hardware.pdf')\n",
    "plt.show()\n"
   ]
  },
  {
   "cell_type": "markdown",
   "metadata": {},
   "source": [
    "### The Fiducial ATM\n",
    "\n",
    "We compare the reddest (largest) PWV absorption feature of the LSST standard atmosphere against our own atmospheric model (`pwv_kpno`). We compare the LSST atmosphere against PWV absorption for 4mm PWV binned at a 5 angstrom resolution."
   ]
  },
  {
   "cell_type": "code",
   "execution_count": null,
   "metadata": {},
   "outputs": [],
   "source": [
    "def fit_lsst_atm_continua(deg, *wave_ranges, lsst_atm='lsst_atmos_std'):\n",
    "    \"\"\"Fit the LSST atmosphere with a polynomial\n",
    "    \n",
    "    Args:\n",
    "        deg                (int): The degree of the fitted polynomial\n",
    "        *wave_ranges     (tuple): Start and end wavlengths of regions to fit\n",
    "        lsst_atm (str, Bandpass): The atmosphere to fit\n",
    "        \n",
    "    Returns:\n",
    "        - A tuple of fit parameters\n",
    "        - A function representing the fitted polynomial\n",
    "    \"\"\"\n",
    "\n",
    "    # Ensure the lsst_atm variable is a Bandpass object\n",
    "    lsst_atm = sncosmo.get_bandpass(lsst_atm)\n",
    "    \n",
    "    # Fitt the LSST transmission over the given wavelength ranges\n",
    "    wavelengths = np.concatenate([np.arange(*w) for w in wave_ranges])\n",
    "    fit_params = np.polyfit(wavelengths, lsst_atm(wavelengths), deg)\n",
    "\n",
    "    return fit_params, np.poly1d(fit_params)\n"
   ]
  },
  {
   "cell_type": "code",
   "execution_count": null,
   "metadata": {},
   "outputs": [],
   "source": [
    "def plot_lsst_atm():\n",
    "    \"\"\"Plot the LSST standard atmosphere\"\"\"\n",
    "    \n",
    "    # Fit the LSST atmospheric continuum (i.e. the non-PWV transmission)\n",
    "    lsst_atm = sncosmo.get_bandpass('lsst_atmos_std')\n",
    "    continuum_wavelengths = [(8400, 8850), (10_000, 10_500)]\n",
    "    fit_params, fit_func = fit_lsst_atm_continua(2, *continuum_wavelengths, lsst_atm=lsst_atm)\n",
    "    fit_label = fr'{fit_params[0]: .1e} x$^2$ + {fit_params[1]: .1e} x + {fit_params[2]: .2f}'\n",
    "\n",
    "    fig, (left_ax, right_ax) = plt.subplots(1, 2, sharex=True, sharey=True, figsize=(12, 6))\n",
    "    \n",
    "    # Plot fit to the continuum in left axis\n",
    "    left_ax.plot(lsst_atm.wave, lsst_atm.trans, label='LSST Fiducial Atmosphere')\n",
    "    left_ax.plot(lsst_atm.wave, fit_func(lsst_atm.wave), label=fit_label)\n",
    "    for i, wave_range in enumerate(continuum_wavelengths):\n",
    "        label = 'Continuum' if i == 0 else None\n",
    "        left_ax.axvspan(*wave_range, color='C3', alpha=.1, label=label)\n",
    "        \n",
    "    left_ax.set_xlabel(r'Wavelength ($\\AA$)')\n",
    "    left_ax.set_ylabel('Total Transmission')\n",
    "    left_ax.set_xlim(8000, 11000)\n",
    "    left_ax.set_ylim(.5, 1)\n",
    "    left_ax.legend(loc='lower left', framealpha=1)\n",
    "    \n",
    "    # Plot comparison of normalized and modeled absorption feature\n",
    "    normalized_trans = lsst_atm.trans / fit_func(lsst_atm.wave)\n",
    "    modeled_trans = trans_for_pwv(4, lsst_atm.wave, 5)\n",
    "    \n",
    "    right_ax.plot(lsst_atm.wave, modeled_trans, color='grey', label='pwv_kpno')\n",
    "    right_ax.plot(lsst_atm.wave, normalized_trans, label='Normalized LSST')\n",
    "    \n",
    "    right_ax.set_xlabel(r'Wavelength ($\\AA$)')\n",
    "    right_ax.set_ylabel('PWV Transmission')\n",
    "    right_ax.legend(loc='lower left', framealpha=1)\n"
   ]
  },
  {
   "cell_type": "code",
   "execution_count": null,
   "metadata": {},
   "outputs": [],
   "source": [
    "plot_lsst_atm()\n",
    "plt.savefig(fig_dir / 'atmospheric_continuum_fit.pdf')\n",
    "plt.show()\n"
   ]
  },
  {
   "cell_type": "markdown",
   "metadata": {},
   "source": [
    "A rough minimization shows that our choice of resolution and PWV concentration in the above plot were reasonable. "
   ]
  },
  {
   "cell_type": "code",
   "execution_count": null,
   "metadata": {
    "scrolled": false
   },
   "outputs": [],
   "source": [
    "from scipy.optimize import minimize\n",
    "\n",
    "fit_params, fit_func = fit_lsst_atm_continua(2, (8400, 8850), (10_000, 10_500))\n",
    "\n",
    "lsst_atm = sncosmo.get_bandpass('lsst_atmos_std')\n",
    "lsst_atm_normalized = sncosmo.Bandpass(\n",
    "    wave=lsst_atm.wave, \n",
    "    trans=lsst_atm.trans / fit_func(lsst_atm.wave)\n",
    ")\n",
    "\n",
    "\n",
    "def summed_resids(x):\n",
    "    pwv, res = x\n",
    "    \n",
    "    wavelengths = np.arange(8400, 10_500)\n",
    "    modeled_trans = trans_for_pwv(pwv, wavelengths, res)\n",
    "    normalized_trans = lsst_atm_normalized(wavelengths)\n",
    "    stat = np.average(normalized_trans - modeled_trans)\n",
    "    return abs(stat)\n",
    "\n",
    "\n",
    "x0 = 4, 5\n",
    "res = minimize(summed_resids, x0, bounds=[(2, 10), (1, 10)], tol=.01)\n",
    "print('Best fit PWV:', res.x[0])\n",
    "print('Best fit Resolution:', res.x[1])\n"
   ]
  },
  {
   "cell_type": "markdown",
   "metadata": {},
   "source": [
    "## Stellar Fluxes\n",
    "\n",
    "We take note of how the stellar flux changes in each band relative to PWV = 0. We rely on stellar spectra from the Göttingen spectral library, as demonstrated below."
   ]
  },
  {
   "cell_type": "code",
   "execution_count": null,
   "metadata": {
    "scrolled": false
   },
   "outputs": [],
   "source": [
    "def plot_stellar_spectrum(spectype='G2', figsize=(8, 5)):\n",
    "    \"\"\"Plot the spectrum of a given spectral type\n",
    "    \n",
    "    Args:\n",
    "        spectype  (str): Type of the spectrum\n",
    "        figsize (tuple): Size of the created figure\n",
    "    \"\"\"\n",
    "\n",
    "    stellar_spectrum = get_stellar_spectra(spectype)\n",
    "    trans_table = pwv_atm.trans_for_pwv(4)\n",
    "    transmission = np.interp(\n",
    "        stellar_spectrum.index, \n",
    "        trans_table['wavelength'], \n",
    "        trans_table['transmission'])\n",
    "    \n",
    "    fig, axis = plt.subplots(figsize=figsize)\n",
    "    twin_ax = axis.twinx()\n",
    "    \n",
    "    axis.plot(stellar_spectrum.index, stellar_spectrum, color='k', linewidth=.05)\n",
    "    twin_ax.fill_between(trans_table['wavelength'], np.ones_like(trans_table['transmission']), trans_table['transmission'])\n",
    "    for i, b in enumerate('ugrizy'):\n",
    "        color = f'C{i + 1}'\n",
    "        band = sncosmo.get_bandpass(f'lsst_hardware_{b}')\n",
    "        \n",
    "        twin_ax.fill_between(band.wave, band.trans, label=f'{b} Band', zorder=0, alpha=.4, color=color)\n",
    "        twin_ax.plot(band.wave, band.trans, color=color)\n",
    "        \n",
    "    axis.set_xlabel(r'Wavelength $\\AA$')\n",
    "    axis.set_ylabel('Flux')\n",
    "    axis.set_xlim(3000, 11000)\n",
    "    axis.set_ylim(0)\n",
    "    \n",
    "    twin_ax.set_ylim(0, 1)\n",
    "    twin_ax.set_ylabel('Transmission', rotation=-90, labelpad=14)\n"
   ]
  },
  {
   "cell_type": "code",
   "execution_count": null,
   "metadata": {},
   "outputs": [],
   "source": [
    "plot_stellar_spectrum()\n",
    "plt.savefig(fig_dir / 'stellar_spectrum.pdf')\n"
   ]
  },
  {
   "cell_type": "code",
   "execution_count": null,
   "metadata": {},
   "outputs": [],
   "source": [
    "def plot_scale_factor(spectype='G2'):\n",
    "    \"\"\"Plot the stellar flux in each band as a fraction of the \n",
    "    flux at PWV = 0.\n",
    "    \"\"\"\n",
    "    \n",
    "    fig, axis = plt.subplots()\n",
    "\n",
    "    ref_df = get_ref_star_dataframe(spectype)\n",
    "    for band in 'ugrizy':\n",
    "        band_data = ref_df[f'{band}_norm']\n",
    "        axis.plot(ref_df.index, band_data, label=f'{band} Band')\n",
    "\n",
    "    axis.set_ylabel('Scale Factor')\n",
    "    axis.set_xlabel('PWV (mm)')\n",
    "    axis.set_xlim(0, 15)\n",
    "    axis.legend()\n"
   ]
  },
  {
   "cell_type": "code",
   "execution_count": null,
   "metadata": {},
   "outputs": [],
   "source": [
    "plot_scale_factor()\n",
    "plt.savefig(fig_dir / 'stellar_scale_factors.pdf')\n"
   ]
  },
  {
   "cell_type": "code",
   "execution_count": null,
   "metadata": {},
   "outputs": [],
   "source": []
  }
 ],
 "metadata": {
  "kernelspec": {
   "display_name": "Python [conda env:sn-pwv] *",
   "language": "python",
   "name": "conda-env-sn-pwv-py"
  },
  "language_info": {
   "codemirror_mode": {
    "name": "ipython",
    "version": 3
   },
   "file_extension": ".py",
   "mimetype": "text/x-python",
   "name": "python",
   "nbconvert_exporter": "python",
   "pygments_lexer": "ipython3",
   "version": "3.7.7"
  }
 },
 "nbformat": 4,
 "nbformat_minor": 4
}
