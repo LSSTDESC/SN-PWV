{
 "cells": [
  {
   "cell_type": "markdown",
   "id": "b829b0ba",
   "metadata": {
    "pycharm": {
     "name": "#%% md\n"
    }
   },
   "source": [
    "# Examining Pipeline Outputs\n",
    "\n",
    "This notebook demonstrated the parsing of output data from the `snat_sim` pipeline."
   ]
  },
  {
   "cell_type": "code",
   "execution_count": 10,
   "id": "38026caa",
   "metadata": {
    "pycharm": {
     "name": "#%%\n"
    }
   },
   "outputs": [],
   "source": [
    "from pathlib import Path\n",
    "\n",
    "import matplotlib.pyplot as plt\n",
    "import numpy as np\n",
    "import pandas as pd\n",
    "from astropy import units as u\n",
    "from astropy.coordinates import SkyCoord\n",
    "from scipy.stats.stats import pearsonr\n"
   ]
  },
  {
   "cell_type": "markdown",
   "id": "9495ed9e",
   "metadata": {
    "pycharm": {
     "name": "#%% md\n"
    }
   },
   "source": [
    "## Parsing Data\n",
    "\n",
    "Results from the analysis pipeline are written to disk over multiple files. We read data from each file and concatenate the results. \n",
    "\n",
    "Values that are not fit for are masked using the value `-99.99`. For conveniance, we replace these values with `nan` in the below example. \n",
    "\n",
    "For a full overview of the output file data model, see the [data model documentation](https://lsstdesc.org/SN-PWV/overview/data_model.html).\n"
   ]
  },
  {
   "cell_type": "code",
   "execution_count": 11,
   "id": "96afb46d",
   "metadata": {},
   "outputs": [],
   "source": [
    "def add_derived_values(pipeline_data):\n",
    "    \"\"\"Calculate some useful values and add them to a dataframe of pipeline data\n",
    "    \n",
    "    Args:\n",
    "        pipeline_data (DataFrame): Pipeline data returned by ``load_pipeline_data``\n",
    "        \n",
    "    Returns:\n",
    "        A copy of the given dataframe with added columns\n",
    "    \"\"\"\n",
    "    \n",
    "    pipeline_data = pipeline_data.copy()\n",
    "    for param in ('z', 't0', 'x0', 'x1', 'c'):\n",
    "        pipeline_data[f'delta_{param}'] = pipeline_data[f'fit_{param}'] - pipeline_data[param]\n",
    "        pipeline_data[f'delta_{param}_norm'] = pipeline_data[f'delta_{param}'] / pipeline_data[f'{param}']\n",
    "    \n",
    "    return pipeline_data\n"
   ]
  },
  {
   "cell_type": "code",
   "execution_count": 28,
   "id": "096e4af8",
   "metadata": {
    "pycharm": {
     "name": "#%%\n"
    }
   },
   "outputs": [],
   "source": [
    "def get_combined_data_table(directory, key, pattern='*.h5'):\n",
    "    \"\"\"Return a single data table from directory of HDF5 files\n",
    "    \n",
    "    Returns concatenated tables from each of the files.\n",
    "    \n",
    "    Args:\n",
    "        directory (Path): The directory to parse data files from\n",
    "        key        (str): Key of the table in the HDF5 files\n",
    "        pattern    (str): Include results from all files matching the regex pattern\n",
    "        \n",
    "    Returns:\n",
    "        A pandas datafram with pipeline data\n",
    "    \"\"\"\n",
    "\n",
    "    if not (h5_files := list(directory.glob(pattern))):\n",
    "        raise ValueError(f'No h5 files found in {directory}')\n",
    "    \n",
    "    dataframes = []    \n",
    "    for file in h5_files:\n",
    "        with pd.HDFStore(file, 'r') as datastore:\n",
    "            dataframes.append(datastore.get(key))\n",
    "            \n",
    "    return pd.concat(dataframes).set_index('snid')\n",
    "\n",
    "\n",
    "def load_pipeline_data(directory, pattern='*.h5', derived=True):\n",
    "    \"\"\"Return the combined input and output parameters from a pipeline run\n",
    "    \n",
    "    Args:\n",
    "        directory (Path): The directory to parse data files from\n",
    "        pattern    (str): Include results from all files matching the regex pattern\n",
    "        \n",
    "    Returns:\n",
    "        A pandas datafram with pipeline data\n",
    "    \"\"\"\n",
    "    \n",
    "    sim_params = get_combined_data_table(directory, '/simulation/params', pattern=pattern)\n",
    "    fit_results = get_combined_data_table(directory, '/fitting/params', pattern=pattern)\n",
    "    fit_status = get_combined_data_table(directory, 'message', pattern=pattern)\n",
    "\n",
    "    # THe join order is important here. Left most tables are a superset of rightmost tables\n",
    "    pipeline_data = fit_status.join(fit_results).join(sim_params)\n",
    "\n",
    "    # Join results for failed fit results will be nan.\n",
    "    return_data = pipeline_data.replace(-99.99, np.nan)\n",
    "    if derived:\n",
    "        return_data = add_derived_values(return_data)\n",
    "        \n",
    "    return return_data\n"
   ]
  },
  {
   "cell_type": "code",
   "execution_count": 29,
   "id": "38200647",
   "metadata": {
    "pycharm": {
     "name": "#%%\n"
    }
   },
   "outputs": [],
   "source": [
    "data_dir = Path('.').resolve().parent / 'data' / 'analysis_runs' / 'validation'\n"
   ]
  },
  {
   "cell_type": "code",
   "execution_count": 31,
   "id": "222df3eb",
   "metadata": {
    "pycharm": {
     "name": "#%%\n"
    }
   },
   "outputs": [
    {
     "name": "stdout",
     "output_type": "stream",
     "text": [
      "Summary of simulation success for SNe:\n"
     ]
    },
    {
     "data": {
      "text/plain": [
       "True     957\n",
       "False     43\n",
       "Name: success, dtype: int64"
      ]
     },
     "execution_count": 31,
     "metadata": {},
     "output_type": "execute_result"
    }
   ],
   "source": [
    "sim_epoch_fit_4 = load_pipeline_data(data_dir, pattern='pwv_sim_epoch_fit_4*')\n",
    "\n",
    "print('Summary of simulation success for SNe:')\n",
    "sim_epoch_fit_4.success.value_counts()\n"
   ]
  },
  {
   "cell_type": "code",
   "execution_count": null,
   "id": "f159ef37",
   "metadata": {
    "pycharm": {
     "name": "#%%\n"
    }
   },
   "outputs": [],
   "source": [
    "sim_epoch_fit_seasonal = load_pipeline_data(data_dir, pattern='pwv_sim_epoch_fit_seasonal*')\n",
    "\n",
    "print('Summary of simulation success for SNe:')\n",
    "sim_epoch_fit_seasonal.success.value_counts()\n"
   ]
  },
  {
   "cell_type": "code",
   "execution_count": null,
   "id": "edd87943",
   "metadata": {
    "pycharm": {
     "name": "#%%\n"
    }
   },
   "outputs": [],
   "source": [
    "sim_epoch_fit_epoch = load_pipeline_data(data_dir, pattern='pwv_sim_epoch_fit_epoch*')\n",
    "\n",
    "print('Summary of simulation success for SNe:')\n",
    "sim_epoch_fit_epoch.success.value_counts()\n"
   ]
  },
  {
   "cell_type": "markdown",
   "id": "35b16de6",
   "metadata": {
    "pycharm": {
     "name": "#%% md\n"
    }
   },
   "source": [
    "## Accuracy of Fitted Parameters\n"
   ]
  },
  {
   "cell_type": "code",
   "execution_count": null,
   "id": "f78cb0e6",
   "metadata": {},
   "outputs": [],
   "source": [
    "def plot_parameter_distribution(\n",
    "    data, \n",
    "    params=('x0', 'x1', 'c'),\n",
    "    xlims=((0, 3.0e-5), (-4, 4), (-.5, .5)),\n",
    "    bins=(np.linspace(0, 3.0e-5, 100), 100, 100),\n",
    "    sharey=True,\n",
    "    figsize=(20, 5)\n",
    "):\n",
    "    \"\"\"\n",
    "    \n",
    "    Args:\n",
    "        data (DataFrame): Pipeline data to use for the plot\n",
    "        params   (tuple): Tuple of parameter names to plot distributions for\n",
    "        bins       (int): Number of bins to use when building histograms\n",
    "        figsize  (tuple): Size of the generated figure\n",
    "    \"\"\"\n",
    "    \n",
    "    fig, axes = plt.subplots(1, len(params), figsize=figsize, sharey=sharey)\n",
    "    for param, xlim, binn, axis in zip(params, xlims, bins, axes):\n",
    "        axis_data = data[param]\n",
    "        median = axis_data.median()\n",
    "        std = axis_data.std()\n",
    "        \n",
    "        hist = axis.hist(axis_data, bins=binn, label=f'STD {std:.2f}')\n",
    "        axis.axvline(median, linestyle='--', color='k', label=f'Median: {median:.2f}')\n",
    "        \n",
    "        axis.set_xlabel(param, fontsize=16)\n",
    "        axis.set_xlim(xlim)\n",
    "        axis.legend()\n",
    "\n",
    "    axes[0].set_ylabel('Number of SNe')\n",
    "    "
   ]
  },
  {
   "cell_type": "code",
   "execution_count": null,
   "id": "a8bbf3ec",
   "metadata": {
    "pycharm": {
     "name": "#%%\n"
    }
   },
   "outputs": [],
   "source": [
    "def plot_parameter_accuracy(\n",
    "    data, \n",
    "    params=('x0', 'x1', 'c'),\n",
    "    bins=np.linspace(-1, 1, 200),\n",
    "    sharey=False,\n",
    "    figsize=(20, 5)\n",
    "):\n",
    "    \"\"\"Plot histograms of the normalized difference between \n",
    "    simulated and fitted model parameters.\n",
    "    \n",
    "    Args:\n",
    "        data (DataFrame): Pipeline data to use for the plot\n",
    "        params   (tuple): Tuple of parameter names to plot distributions for\n",
    "        bins     (Array): Bins to use when building histograms\n",
    "        figsize  (tuple): Size of the generated figure\n",
    "    \"\"\"\n",
    "    \n",
    "    fig, axes = plt.subplots(1, len(params), figsize=figsize, sharey=sharey)\n",
    "    for param, axis in zip(params, axes):\n",
    "        xmin = min(bins)\n",
    "        xmax = max(bins)\n",
    "        \n",
    "        axis_data = data[f'delta_{param}_norm']\n",
    "        axis_data = axis_data[xmin <= axis_data][axis_data <= xmax]\n",
    "        median = axis_data.median()\n",
    "        mean = axis_data.mean()\n",
    "        std = axis_data.std()\n",
    "        \n",
    "        hist = axis.hist(axis_data, bins=bins, label=f'STD {std:.2f}')\n",
    "        axis.axvline(median, linestyle='--', color='k', label=f'Median: {median:.2f}')\n",
    "        \n",
    "        axis.set_xlabel(r'$\\frac{' + param + r'_{sim} - ' + param + '_{fit}}{' + param + '_{sim}}$', fontsize=16)\n",
    "        axis.set_xlim(xmin, xmax)\n",
    "        axis.legend()\n",
    "        \n",
    "    axes[0].set_ylabel('Number of SNe')\n"
   ]
  },
  {
   "cell_type": "code",
   "execution_count": null,
   "id": "06e9fec0",
   "metadata": {
    "pycharm": {
     "name": "#%%\n"
    }
   },
   "outputs": [],
   "source": [
    "print('Distribution of input parameters')\n",
    "plot_parameter_distribution(sim_epoch_fit_4)\n",
    "plt.show()\n",
    "\n",
    "print('Accuracy of fitted parameters')\n",
    "plot_parameter_accuracy(sim_epoch_fit_4)\n"
   ]
  },
  {
   "cell_type": "code",
   "execution_count": null,
   "id": "c93270e1",
   "metadata": {
    "pycharm": {
     "name": "#%%\n"
    }
   },
   "outputs": [],
   "source": [
    "print('Distribution of input parameters')\n",
    "plot_parameter_distribution(sim_epoch_fit_seasonal)\n",
    "plt.show()\n",
    "\n",
    "print('Accuracy of fitted parameters')\n",
    "plot_parameter_accuracy(sim_epoch_fit_seasonal)\n"
   ]
  },
  {
   "cell_type": "code",
   "execution_count": null,
   "id": "5b9e3d0e",
   "metadata": {
    "pycharm": {
     "name": "#%%\n"
    }
   },
   "outputs": [],
   "source": [
    "print('Distribution of input parameters')\n",
    "plot_parameter_distribution(sim_epoch_fit_epoch)\n",
    "plt.show()\n",
    "\n",
    "print('Accuracy of fitted parameters')\n",
    "plot_parameter_accuracy(sim_epoch_fit_epoch)\n"
   ]
  },
  {
   "cell_type": "markdown",
   "id": "76b5196a",
   "metadata": {
    "pycharm": {
     "name": "#%% md\n"
    }
   },
   "source": [
    "## Correlation Between Residuals and SN Properties"
   ]
  },
  {
   "cell_type": "code",
   "execution_count": null,
   "id": "b21fbb73",
   "metadata": {
    "pycharm": {
     "name": "#%%\n"
    }
   },
   "outputs": [],
   "source": [
    "def calc_correlations(\n",
    "    data,\n",
    "    params=('delta_t0', 'delta_x0', 'delta_x1', 'delta_c'),\n",
    "    properties=('z', 't0', 'x0', 'x1', 'c', 'ra', 'dec'),\n",
    "):\n",
    "    \"\"\"Calculate the pearson correlation coefficiant between the\n",
    "    accuracy in fitted parameters and SN properties\n",
    "    \n",
    "    Args:\n",
    "        data   (DataFrame): Pipeline data to use for the plot\n",
    "        params     (tuple): Model parameters to calculate covariance for\n",
    "        properties (tuple): Name of SN properties to calculate covariance with\n",
    "        \n",
    "    Returns:\n",
    "        - A dataframe with covariance values\n",
    "        - A dataframe with p values\n",
    "    \"\"\"\n",
    "    \n",
    "    corr_for_param = dict()\n",
    "    p_for_param = dict()\n",
    "    for param in params:\n",
    "\n",
    "        corr_for_prop = dict()\n",
    "        p_for_prop = dict()\n",
    "        for prop in properties:\n",
    "            x = data[prop]\n",
    "            y = data[param]\n",
    "            corr_for_prop[prop], p_for_prop[prop] = pearsonr(x, y)\n",
    "\n",
    "        corr_for_param[param] = pd.Series(corr_for_prop)\n",
    "        p_for_param[param] = pd.Series(p_for_prop)\n",
    "\n",
    "    return pd.DataFrame(corr_for_param), pd.DataFrame(p_for_param)\n"
   ]
  },
  {
   "cell_type": "code",
   "execution_count": null,
   "id": "b978aca6",
   "metadata": {
    "pycharm": {
     "name": "#%%\n"
    }
   },
   "outputs": [],
   "source": [
    "def plot_correlations(\n",
    "    corr_data,\n",
    "    params=('delta_t0', 'delta_x0', 'delta_x1', 'delta_c'),\n",
    "    properties=('z', 't0', 'x0', 'x1', 'c', 'ra', 'dec'),\n",
    "    figsize=(8, 8),\n",
    "    vmin=None,\n",
    "    vmax=None,\n",
    "    label='',\n",
    "    cmap=None\n",
    "):\n",
    "    \"\"\"Create a heatmap of correlation data\n",
    "    \n",
    "    Args:\n",
    "        corr_data (DataFrame): Data returned from ``calc_correlations``\n",
    "        params        (tuple): Model parameters used to calculate covariance\n",
    "        properties    (tuple): Name of SN properties used to calculate covariance\n",
    "        figsize       (tuple): Size of the generated figure\n",
    "        vmin            (int): Lower bound of the color bar\n",
    "        vmax            (int): Upper bound of the color bar\n",
    "        label           (str): The label of the color bar\n",
    "        cmap            (str): Name of the matplotlib color map to use\n",
    "    \"\"\"\n",
    "\n",
    "    fig, axis = plt.subplots(figsize=figsize)\n",
    "    im = axis.imshow(corr_data, vmin=vmin, vmax=vmax, cmap=cmap)\n",
    "\n",
    "    cbar = axis.figure.colorbar(im, ax=axis)\n",
    "    cbar.ax.set_ylabel(label, rotation=-90, va=\"bottom\")\n",
    "\n",
    "    axis.set_xticks(np.arange(corr_data.shape[1]))\n",
    "    axis.set_yticks(np.arange(corr_data.shape[0]))\n",
    "    axis.set_xticklabels(params)\n",
    "    axis.set_yticklabels(properties)\n",
    "    "
   ]
  },
  {
   "cell_type": "code",
   "execution_count": null,
   "id": "ede2007a",
   "metadata": {
    "pycharm": {
     "name": "#%%\n"
    }
   },
   "outputs": [],
   "source": [
    "corr, p = calc_correlations(sim_epoch_fit_4)\n",
    "\n",
    "print('Correlation matrix:')\n",
    "plot_correlations(corr, vmin=-.04, vmax=0.04, label='Corrolation Strength', cmap='coolwarm_r')\n",
    "print(corr)\n",
    "plt.show()\n"
   ]
  },
  {
   "cell_type": "code",
   "execution_count": null,
   "id": "6e7033b5",
   "metadata": {},
   "outputs": [],
   "source": [
    "print('p-value matrix:')\n",
    "plot_correlations(p, label='p value', cmap='Blues_r', vmax=0.05)\n",
    "print(p)\n",
    "plt.show()"
   ]
  },
  {
   "cell_type": "code",
   "execution_count": null,
   "id": "5ee6a9d3",
   "metadata": {},
   "outputs": [],
   "source": [
    "def density_plot(\n",
    "    data,\n",
    "    y_vals=('x0', 'x1', 'c'),\n",
    "    y_lims=((-1, 1),) * 3,\n",
    "    y_bins=200,\n",
    "    x_vals=('x0', 'x1', 'c'),\n",
    "    x_lims=((0, 3.0e-05), (-5, 5), (-0.25, 0.25)),\n",
    "    x_bins=200,\n",
    "    color_bins=50,\n",
    "    cmap='Blues',\n",
    "    figsize=(20, 20)\n",
    "):\n",
    "    \"\"\"Plot 2d histogram of the normalized difference between \n",
    "    simulated and fitted model parameters relative to a given \n",
    "    dataframe column.\n",
    "    \n",
    "    Args:\n",
    "        data (DataFrame): Pipeline data to use for the plot\n",
    "        params   (tuple): Tuple of parameter names to plot distributions for\n",
    "        x_val      (str): Name of column to use for the x axis\n",
    "        figsize  (tuple): Size of the generated figure\n",
    "        bins       (int): Number of bins to use in the histogram\n",
    "        cmap       (str): Name of the color map to use\n",
    "    \"\"\"\n",
    "    \n",
    "    num_xvals = len(x_vals)\n",
    "    num_yvals = len(y_vals)\n",
    "    num_columns = num_xvals + 1\n",
    "    num_rows = len(y_vals) + 1\n",
    "\n",
    "    fig = plt.figure(figsize=figsize)\n",
    "    gs = fig.add_gridspec(\n",
    "        num_rows,\n",
    "        num_columns,\n",
    "        width_ratios=(6,) * num_xvals + (3,),\n",
    "        height_ratios=(3,) + (6,) * num_yvals,\n",
    "        # left=0.1,\n",
    "        # right=0.9,\n",
    "        # bottom=0.1,\n",
    "        # top=0.9,\n",
    "        # wspace=0.05,\n",
    "        # hspace=0.1\n",
    "    )\n",
    "    \n",
    "    # Iterate over center subplots and add 2d histograms\n",
    "    for row_idx, (y_val, y_lim) in enumerate(zip(y_vals, y_lims), start=1):\n",
    "        for col_idx, (x_val, x_lim) in enumerate(zip(x_vals, x_lims)):\n",
    "            \n",
    "            # Drop nans \n",
    "            plt_data = data.dropna(subset=[x_val, f'delta_{y_val}_norm'])\n",
    "            x_data = plt_data[x_val]\n",
    "            y_data = plt_data[f'delta_{y_val}_norm']\n",
    "\n",
    "            ax = fig.add_subplot(gs[row_idx, col_idx])\n",
    "            ax.hist2d(x_data, y_data, bins=color_bins, cmap=cmap, range=(x_lim, y_lim))\n",
    "            ax.set_xlim(x_lim)\n",
    "            ax.set_ylim(y_lim)\n",
    "            \n",
    "            if col_idx == 0:\n",
    "                ax.set_ylabel(r'$\\frac{' + y_val + r'_{sim} - ' + y_val + '_{fit}}{' + y_val + '_{sim}}$', fontsize=16)\n",
    "        \n",
    "            if row_idx == num_yvals:\n",
    "                ax.set_xlabel(x_val, fontsize=16)\n",
    "\n",
    "    \n",
    "    # Iterate over top most row and add histograms\n",
    "    for col_idx, (x_val, x_lim) in enumerate(zip(x_vals, x_lims)):\n",
    "        top_of_column_ax = fig.add_subplot(gs[0, col_idx])\n",
    "        top_of_column_ax.hist(data[x_val], bins=np.linspace(*x_lim, x_bins))\n",
    "        top_of_column_ax.set_xlim(x_lim)\n",
    "\n",
    "    # Iterate over right most column and add histograms\n",
    "    for row_idx, (y_val, y_lim) in enumerate(zip(y_vals, y_lims), start=1):\n",
    "        end_of_row_ax = fig.add_subplot(gs[row_idx, num_xvals])\n",
    "        end_of_row_ax.hist(data[f'delta_{y_val}_norm'], bins=np.linspace(*y_lim, y_bins), orientation='horizontal')\n",
    "        end_of_row_ax.set_ylim(y_lim)\n"
   ]
  },
  {
   "cell_type": "code",
   "execution_count": null,
   "id": "6c713d8d",
   "metadata": {
    "pycharm": {
     "name": "#%%\n"
    }
   },
   "outputs": [],
   "source": [
    "density_plot(sim_epoch_fit_4)\n"
   ]
  },
  {
   "cell_type": "code",
   "execution_count": null,
   "id": "820b92c2",
   "metadata": {
    "pycharm": {
     "name": "#%%\n"
    }
   },
   "outputs": [],
   "source": [
    "density_plot(sim_epoch_fit_seasonal)\n"
   ]
  },
  {
   "cell_type": "code",
   "execution_count": null,
   "id": "58181adb",
   "metadata": {
    "pycharm": {
     "name": "#%%\n"
    }
   },
   "outputs": [],
   "source": [
    "def plot_ra_dec(data, param, cmap='bwr'):\n",
    "    \"\"\"Plot normalized residuals on a sky map\n",
    "    \n",
    "    Args:\n",
    "        data (DataFrame): Pipeline data to use for the plot\n",
    "        param      (str): Name of the parameter to plot accuracy for\n",
    "        cmap       (str): Name of the color map to use\n",
    "    \"\"\"\n",
    "    \n",
    "    resid = data[f'delta_{param}_norm']\n",
    "    median_resid = resid.median()\n",
    "    sn_coord = SkyCoord(data['ra'], data['dec'], unit=u.deg).galactic\n",
    "    \n",
    "    plt.figure(figsize=(10, 5))\n",
    "    plt.subplot(111, projection='aitoff')\n",
    "    plt.grid(True)\n",
    "\n",
    "    scat = plt.scatter(\n",
    "        sn_coord.l.wrap_at('180d').radian, \n",
    "        sn_coord.b.radian, c=resid, \n",
    "        vmin=-1 + median_resid, \n",
    "        vmax=1 + median_resid, \n",
    "        s=1, \n",
    "        cmap=cmap)\n",
    "    \n",
    "    plt.colorbar(scat).set_label(f'Accuracy in {param} (Median = {median_resid:.2f})', rotation=270, labelpad=15)\n"
   ]
  },
  {
   "cell_type": "code",
   "execution_count": null,
   "id": "06bd35ce",
   "metadata": {
    "pycharm": {
     "name": "#%%\n"
    }
   },
   "outputs": [],
   "source": [
    "plot_ra_dec(sim_epoch_fit_4, 'x0')\n"
   ]
  },
  {
   "cell_type": "code",
   "execution_count": null,
   "id": "13e5b8dd",
   "metadata": {
    "pycharm": {
     "name": "#%%\n"
    }
   },
   "outputs": [],
   "source": [
    "plot_ra_dec(sim_epoch_fit_4, 'x1')\n"
   ]
  },
  {
   "cell_type": "code",
   "execution_count": null,
   "id": "37b6bee1",
   "metadata": {
    "pycharm": {
     "name": "#%%\n"
    }
   },
   "outputs": [],
   "source": [
    "plot_ra_dec(sim_epoch_fit_4, 'c')\n"
   ]
  },
  {
   "cell_type": "code",
   "execution_count": null,
   "id": "b77a80c3",
   "metadata": {
    "pycharm": {
     "name": "#%%\n"
    }
   },
   "outputs": [],
   "source": []
  }
 ],
 "metadata": {
  "kernelspec": {
   "display_name": "Python [conda env:SN-PWV] *",
   "language": "python",
   "name": "conda-env-SN-PWV-py"
  },
  "language_info": {
   "codemirror_mode": {
    "name": "ipython",
    "version": 3
   },
   "file_extension": ".py",
   "mimetype": "text/x-python",
   "name": "python",
   "nbconvert_exporter": "python",
   "pygments_lexer": "ipython3",
   "version": "3.9.13"
  }
 },
 "nbformat": 4,
 "nbformat_minor": 5
}
