{
 "cells": [
  {
   "cell_type": "code",
   "execution_count": null,
   "id": "2b836b92",
   "metadata": {},
   "outputs": [],
   "source": [
    "import sys\n",
    "from pathlib import Path\n",
    "\n",
    "import matplotlib.pyplot as plt\n",
    "import numpy as np\n",
    "import pandas as pd\n",
    "\n",
    "sys.path.insert(0, '../')\n",
    "from snat_sim.utils import *\n"
   ]
  },
  {
   "cell_type": "code",
   "execution_count": null,
   "id": "096e4af8",
   "metadata": {},
   "outputs": [],
   "source": [
    "def get_combined_data(directory, key):\n",
    "    \"\"\"Return data from directory of pipeline HDF5 files\n",
    "    \n",
    "    Returns concatenated tables from each of the files.\n",
    "    \n",
    "    Args:\n",
    "        directory (Path): The directory to parse data files from\n",
    "        key: Key of the table in the HDF5 files\n",
    "        \n",
    "    Returns:\n",
    "        A pandas datafram with pipeline data\n",
    "    \"\"\"\n",
    "\n",
    "    dataframes = []\n",
    "    for file in directory.glob('*.h5'):\n",
    "        with pd.HDFStore(file, 'r') as datastore:\n",
    "            dataframes.append(datastore.get(key))\n",
    "            \n",
    "    if not dataframes:\n",
    "        raise ValueError('No h5 files found in given directory')\n",
    "            \n",
    "    return pd.concat(dataframes).set_index('snid')\n",
    "    "
   ]
  },
  {
   "cell_type": "code",
   "execution_count": null,
   "id": "e885d4aa",
   "metadata": {},
   "outputs": [],
   "source": [
    "def build_data_iter(axes, df, limit=None):\n",
    "    limit = range(limit + 1) if limit is not None else range(len(axes))\n",
    "    return (\n",
    "        (i, fig_row, label, data) for \n",
    "        (i, fig_row, (label, data)) in \n",
    "        zip(limit, axes, df.iteritems())\n",
    "    )\n",
    "    "
   ]
  },
  {
   "cell_type": "markdown",
   "id": "4c28f3fd",
   "metadata": {},
   "source": [
    "Todo: Configure linfit, contours, and label based on kwargs"
   ]
  },
  {
   "cell_type": "code",
   "execution_count": null,
   "id": "6a60a065",
   "metadata": {
    "scrolled": false
   },
   "outputs": [],
   "source": [
    "def corner_plot_fit_results(data, x_vals, y_vals, lin_fit_style=None, alpha=.25, figsize=(20, 20)): \n",
    "    \n",
    "    lin_fit_style = dict(color='k', linestyle='--')\n",
    "    \n",
    "    fig, axes = plt.subplots(len(x_vals), len(y_vals), figsize=figsize)\n",
    "\n",
    "    x_iter = build_data_iter(axes, data[x_vals])\n",
    "    for i, fig_row, xlabel, xdata in x_iter:\n",
    "\n",
    "        y_iter = build_data_iter(fig_row, data[y_vals], limit=i)\n",
    "        for j, axis, ylabel, ydata in y_iter:\n",
    "            axis.scatter(xdata, ydata, alpha=alpha)\n",
    "            \n",
    "            if i == j:\n",
    "                m, b = np.polyfit(xdata, ydata, 1)\n",
    "                fit = np.poly1d((m, b))\n",
    "                axis.plot(xdata, fit(xdata), **lin_fit_style, label=f'm={m:.2f} b={b:.2f}')\n",
    "                \n",
    "                axis.legend()\n",
    "\n",
    "    for axis, label in zip(axes[-1,:], x_vals):\n",
    "        axis.set_xlabel(label)\n",
    "\n",
    "    for axis, label in zip(axes[:,0], y_vals):\n",
    "        axis.set_ylabel(label)\n",
    "    "
   ]
  },
  {
   "cell_type": "markdown",
   "id": "34ac0249",
   "metadata": {},
   "source": [
    "Todo: Why do I need to dropna ?"
   ]
  },
  {
   "cell_type": "code",
   "execution_count": null,
   "id": "d0264d5b",
   "metadata": {
    "scrolled": false
   },
   "outputs": [],
   "source": [
    "base_dir = Path.home() / 'Downloads'\n",
    "sim_params = get_combined_data(base_dir, '/simulation/params')\n",
    "fit_results = get_combined_data(base_dir, '/fitting/params')\n",
    "pipeline_data = sim_params.join(fit_results) \n"
   ]
  },
  {
   "cell_type": "code",
   "execution_count": null,
   "id": "8a1066d0",
   "metadata": {},
   "outputs": [],
   "source": [
    "corner_plot_fit_results(\n",
    "    data = pipeline_data.dropna(),\n",
    "    x_vals = ['z', 'x0', 'x1', 'c'],\n",
    "    y_vals = ['fit_z', 'fit_x0', 'fit_x1', 'fit_c'])\n"
   ]
  },
  {
   "cell_type": "code",
   "execution_count": null,
   "id": "eba6ccea",
   "metadata": {},
   "outputs": [],
   "source": []
  }
 ],
 "metadata": {
  "kernelspec": {
   "display_name": "Python [conda env:SN-PWV] *",
   "language": "python",
   "name": "conda-env-SN-PWV-py"
  },
  "language_info": {
   "codemirror_mode": {
    "name": "ipython",
    "version": 3
   },
   "file_extension": ".py",
   "mimetype": "text/x-python",
   "name": "python",
   "nbconvert_exporter": "python",
   "pygments_lexer": "ipython3",
   "version": "3.9.7"
  }
 },
 "nbformat": 4,
 "nbformat_minor": 5
}
