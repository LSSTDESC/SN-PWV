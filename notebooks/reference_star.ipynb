{
 "cells": [
  {
   "cell_type": "markdown",
   "metadata": {},
   "source": [
    "# Reference Star Example"
   ]
  },
  {
   "cell_type": "code",
   "execution_count": null,
   "metadata": {},
   "outputs": [],
   "source": [
    "import sys\n",
    "sys.path.insert(0, '../')\n",
    "\n",
    "import numpy as np\n",
    "import sncosmo\n",
    "\n",
    "from sn_analysis import reference\n",
    "from sn_analysis.modeling import get_model_with_pwv, calc_x0_for_z, create_observations_table\n",
    "from sn_analysis.utils import register_decam_filters\n"
   ]
  },
  {
   "cell_type": "code",
   "execution_count": null,
   "metadata": {},
   "outputs": [],
   "source": [
    "register_decam_filters()\n"
   ]
  },
  {
   "cell_type": "markdown",
   "metadata": {},
   "source": [
    "For context, reference star values are made available by the ``reference`` package."
   ]
  },
  {
   "cell_type": "code",
   "execution_count": null,
   "metadata": {},
   "outputs": [],
   "source": [
    "reference.get_ref_star_dataframe()\n"
   ]
  },
  {
   "cell_type": "code",
   "execution_count": null,
   "metadata": {},
   "outputs": [],
   "source": [
    "reference.ref_star_norm_flux('decam_z', 0)\n"
   ]
  },
  {
   "cell_type": "markdown",
   "metadata": {},
   "source": [
    "We start by defining a cadence. We won't need the ``gain`` or ``skynoise`` values because we will use a fixed SNR later on. THese values are dropped for clarity."
   ]
  },
  {
   "cell_type": "code",
   "execution_count": null,
   "metadata": {},
   "outputs": [],
   "source": [
    "obs = create_observations_table(bands=['decam_r', 'decam_i', 'decam_z'])\n",
    "obs.remove_columns(['gain', 'skynoise'])\n",
    "obs\n"
   ]
  },
  {
   "cell_type": "markdown",
   "metadata": {},
   "source": [
    "We simulate light-curves using the `Model.band_mag` functionality of `sncosmo`. This way we don't need to think through how `sncomso.realize_lc` handles the addition of noise."
   ]
  },
  {
   "cell_type": "code",
   "execution_count": null,
   "metadata": {},
   "outputs": [],
   "source": [
    "def subtract_ref_from_lc(lc_table, pwv, reference_type='G2'):\n",
    "    \"\"\"Subtract reference flux from a light-curve\n",
    "\n",
    "    Args:\n",
    "        lc_table     (Table): Astropy table with columns ``flux`` and ``band``\n",
    "        pwv          (float): PWV value to subtract reference star for\n",
    "        reference_type (str): Type of reference star (Default 'G2')\n",
    "\n",
    "    Returns:\n",
    "        A modified copy of ``lc_table``\n",
    "    \"\"\"\n",
    "\n",
    "    table_copy = lc_table.copy()\n",
    "    table_copy['ref_flux_nrom'] = np.nan\n",
    "    \n",
    "    for band in set(table_copy['band']):\n",
    "        # The reference flux normalized to the fiducial atm\n",
    "        norm_ref_flux = reference.ref_star_norm_flux(band, pwv, reference_type)\n",
    "\n",
    "        table_copy['flux'][table_copy['band'] == band] /= norm_ref_flux\n",
    "        table_copy['ref_flux_nrom'][table_copy['band'] == band] = norm_ref_flux\n",
    "\n",
    "    return table_copy\n",
    "\n",
    "\n",
    "def realize_lc(obs, source, snr=.05, reference_star=False, fid_pwv=4, **params):\n",
    "    \"\"\"Simulate a SN light-curve for given parameters\n",
    "\n",
    "    Light-curves are simulated for the given parameters without any of\n",
    "    the added effects from ``sncosmo.realize_lc``.\n",
    "\n",
    "    Args:\n",
    "        obs       (Table): Observation cadence\n",
    "        source   (Source): The sncosmo source to use in the simulations\n",
    "        snr       (float): Signal to noise ratio\n",
    "        **params         : Values for any model parameters\n",
    "\n",
    "    Yields:\n",
    "        Astropy table for each PWV and redshift\n",
    "    \"\"\"\n",
    "\n",
    "    model = get_model_with_pwv(source)\n",
    "    model.update(params)\n",
    "\n",
    "    # Set default x0 value according to assumed cosmology and the model redshift\n",
    "    x0 = params.get('x0', calc_x0_for_z(model['z'], source))\n",
    "    model.set(x0=x0)\n",
    "\n",
    "    light_curve = obs[['time', 'band', 'zp', 'zpsys']]\n",
    "    light_curve['flux'] = model.bandflux(obs['band'], obs['time'], obs['zp'], obs['zpsys'])\n",
    "\n",
    "    if reference_star:\n",
    "        # Use recursion to create a light-curve with the same parameters\n",
    "        # but with PWV at the fiducial value\n",
    "        fiducial_params = params.copy()\n",
    "        fiducial_params['pwv'] = fid_pwv\n",
    "        fiducial_lc = realize_lc(obs, source, snr, **fiducial_params)\n",
    "        \n",
    "        # Normalize the SN light-curve\n",
    "        light_curve['flux'] /= fiducial_lc['flux']\n",
    "        light_curve['zp'] = -2.5 * np.log10(fiducial_lc['flux'])\n",
    "        \n",
    "        # Subtract the reference star\n",
    "        light_curve = subtract_ref_from_lc(light_curve, model['pwv'], reference_star)\n",
    "        \n",
    "\n",
    "    light_curve['fluxerr'] = light_curve['flux'] * snr\n",
    "    return light_curve\n"
   ]
  },
  {
   "cell_type": "code",
   "execution_count": null,
   "metadata": {},
   "outputs": [],
   "source": [
    "realize_lc(obs, 'salt2-extended', z=.1, pwv=10)\n"
   ]
  },
  {
   "cell_type": "code",
   "execution_count": null,
   "metadata": {},
   "outputs": [],
   "source": [
    "realize_lc(obs, 'salt2-extended', reference_star='G2', z=.1, pwv=10)\n"
   ]
  },
  {
   "cell_type": "code",
   "execution_count": null,
   "metadata": {},
   "outputs": [],
   "source": []
  }
 ],
 "metadata": {
  "kernelspec": {
   "display_name": "Python 3",
   "language": "python",
   "name": "python3"
  },
  "language_info": {
   "codemirror_mode": {
    "name": "ipython",
    "version": 3
   },
   "file_extension": ".py",
   "mimetype": "text/x-python",
   "name": "python",
   "nbconvert_exporter": "python",
   "pygments_lexer": "ipython3",
   "version": "3.7.7"
  }
 },
 "nbformat": 4,
 "nbformat_minor": 1
}
