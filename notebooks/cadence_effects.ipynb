{
 "cells": [
  {
   "cell_type": "markdown",
   "metadata": {},
   "source": [
    "# Cadence Effects\n",
    "\n",
    "This notebook simulates normal Type Ia Supernova (SN Ia) light-curves using realistic cadences and atmospheric variabilities expected from LSST.\n"
   ]
  },
  {
   "cell_type": "code",
   "execution_count": null,
   "metadata": {},
   "outputs": [],
   "source": [
    "import sys\n",
    "sys.path.insert(0, '../')\n",
    "\n",
    "from datetime import datetime, timedelta\n",
    "\n",
    "import numpy as np\n",
    "import pandas as pd\n",
    "import sncosmo\n",
    "from astropy.table import Table\n",
    "from astropy.time import Time\n",
    "from astropy.io import fits\n",
    "from matplotlib import pyplot as plt\n",
    "from pwv_kpno.package_settings import ConfigBuilder, settings\n",
    "from pwv_kpno import pwv_atm\n",
    "from pytz import utc\n",
    "\n",
    "from sn_analysis import filters, plasticc, plotting, sn_magnitudes \n",
    "from sn_analysis.modeling import PWVSource\n",
    "\n",
    "filters.register_lsst_filters(force=True)\n"
   ]
  },
  {
   "cell_type": "code",
   "execution_count": null,
   "metadata": {},
   "outputs": [],
   "source": [
    "plt.rcParams['figure.dpi'] = 100\n"
   ]
  },
  {
   "cell_type": "markdown",
   "metadata": {},
   "source": [
    "## Atmospheric Variability\n",
    "\n",
    "To create a physically reasonable representation of the atmospheric variability at LSST, we use PWV measurements taken at the nearby Cerro Telolo International Observatory (CTIO).\n"
   ]
  },
  {
   "cell_type": "code",
   "execution_count": null,
   "metadata": {},
   "outputs": [],
   "source": [
    "# This only needs to be run once in a given environment\n",
    "try:\n",
    "    settings.set_site('cerro_tololo')\n",
    "    \n",
    "except ValueError:\n",
    "    ctio_config = ConfigBuilder(\n",
    "        site_name='cerro_tololo',\n",
    "        primary_rec='CTIO',\n",
    "        sup_rec=[]\n",
    "    )\n",
    "\n",
    "    ctio_config.save_to_ecsv('./cerro_tololo.ecsv', overwrite=True)\n",
    "    settings.import_site_config('./cerro_tololo.ecsv', overwrite=True)\n",
    "    \n",
    "    settings.set_site('cerro_tololo')\n",
    "    pwv_atm.update_models(range(2012, 2019))\n"
   ]
  },
  {
   "cell_type": "code",
   "execution_count": null,
   "metadata": {
    "scrolled": false
   },
   "outputs": [],
   "source": [
    "ctio_pwv = pwv_atm.measured_pwv().to_pandas('date')\n",
    "\n",
    "ctio_pwv.reset_index().plot.scatter('date', 'CTIO', s=1, figsize=(10, 4), alpha=.2)\n",
    "plt.ylabel('CTIO PWV (mm)')\n",
    "plt.xlabel('Date')\n",
    "plt.title('All available PWV measurements for CTIO')\n",
    "plt.ylim(0, 20)\n"
   ]
  },
  {
   "cell_type": "markdown",
   "metadata": {},
   "source": [
    "We don't have enough data to fully represent a 10 year long survey. Fortunately we are mostly interested in timescales of seasonal variability and shorter so we can consider data from a single year with good measurement coverage. "
   ]
  },
  {
   "cell_type": "code",
   "execution_count": null,
   "metadata": {
    "scrolled": false
   },
   "outputs": [],
   "source": [
    "good_pwv_data = ctio_pwv[ctio_pwv.CTIO <= 25]\n",
    "plotting.plot_year_pwv_vs_time(good_pwv_data[good_pwv_data.index.year == 2016].CTIO)\n",
    "plt.title('CTIO PWV over 2016');\n"
   ]
  },
  {
   "cell_type": "markdown",
   "metadata": {},
   "source": [
    "Out of simple curiosity, we also visualize the median PWV across all available years.\n"
   ]
  },
  {
   "cell_type": "code",
   "execution_count": null,
   "metadata": {},
   "outputs": [],
   "source": [
    "# Todo: This really should have been a modulo opperation\n",
    "\n",
    "folded_pwv = good_pwv_data.copy()\n",
    "folded_pwv.index = folded_pwv.index.map(lambda t: t.replace(year=2000))  # Use a dummy year\n",
    "folded_pwv = folded_pwv.groupby(folded_pwv.index).CTIO.median()\n"
   ]
  },
  {
   "cell_type": "code",
   "execution_count": null,
   "metadata": {
    "scrolled": false
   },
   "outputs": [],
   "source": [
    "plotting.plot_year_pwv_vs_time(folded_pwv)\n",
    "plt.title('Phase folded PWV');\n"
   ]
  },
  {
   "cell_type": "markdown",
   "metadata": {},
   "source": [
    "## The PLaSTICC Data\n",
    "\n",
    "Instead of evaluating different cadences from scratch, we use light-curves from the PLaSTICC simulations. First we check what cadence simulations are available on the notebook's host server.\n"
   ]
  },
  {
   "cell_type": "code",
   "execution_count": null,
   "metadata": {},
   "outputs": [],
   "source": [
    "plasticc.get_available_cadences()\n"
   ]
  },
  {
   "cell_type": "markdown",
   "metadata": {},
   "source": [
    "Simulated light-curves are written in the SNANA file format and are distributed across multiple files. We load a light-curve from one of these files and demosntrate the data model below. Each cadence includes simulations run with multiple supernova models. In this notebook we only need simulations for normal SNe (Model 11). \n"
   ]
  },
  {
   "cell_type": "code",
   "execution_count": null,
   "metadata": {},
   "outputs": [],
   "source": [
    "demo_cadence = 'alt_sched_rolling'\n",
    "demo_cadence_header_files = plasticc.get_model_headers('alt_sched_rolling', 11)\n",
    "\n",
    "demo_header_path = demo_cadence_header_files[0]\n",
    "with fits.open(demo_header_path) as _temp:\n",
    "    light_curves_per_file = len(_temp[1].data) \n",
    "\n",
    "print('Files per cadence:', len(demo_cadence_header_files))\n",
    "print('Max light-curves per file:', light_curves_per_file)\n",
    "    "
   ]
  },
  {
   "cell_type": "code",
   "execution_count": null,
   "metadata": {},
   "outputs": [],
   "source": [
    "plasticc_lc = next(plasticc.iter_lc_for_header(demo_header_path, verbose=False))\n"
   ]
  },
  {
   "cell_type": "code",
   "execution_count": null,
   "metadata": {},
   "outputs": [],
   "source": [
    "plasticc_lc.meta\n"
   ]
  },
  {
   "cell_type": "code",
   "execution_count": null,
   "metadata": {},
   "outputs": [],
   "source": [
    "plasticc_lc\n"
   ]
  },
  {
   "cell_type": "markdown",
   "metadata": {},
   "source": [
    "Here we reformat the data to be compatible with `sncosmo` so we can easily visualize the light-curve.\n"
   ]
  },
  {
   "cell_type": "code",
   "execution_count": null,
   "metadata": {},
   "outputs": [],
   "source": [
    "formatted_lc = plasticc.format_plasticc_sncosmo(plasticc_lc)\n"
   ]
  },
  {
   "cell_type": "code",
   "execution_count": null,
   "metadata": {},
   "outputs": [],
   "source": [
    "sncosmo.plot_lc(formatted_lc);\n"
   ]
  },
  {
   "cell_type": "markdown",
   "metadata": {},
   "source": [
    "## Simulating Light-Curves\n",
    "\n",
    "Since we need to add in our own atmospheric variability, the pre-tabulated flux values above are of limited use. Instead, we use the PLaSTICC light-curves to establish the cadence and model parameters for each simulated SN. This information is then used to simulate our own light-curves with `sncosmo`.\n"
   ]
  },
  {
   "cell_type": "markdown",
   "metadata": {},
   "source": [
    "**Note:** See Issue 8 (https://github.com/LSSTDESC/SN-PWV/issues/8) for caveats about the following cell."
   ]
  },
  {
   "cell_type": "code",
   "execution_count": null,
   "metadata": {},
   "outputs": [],
   "source": [
    "duplicated_lc = plasticc.duplicate_plasticc_sncosmo(\n",
    "    plasticc_lc, gain=20, skynr=100)\n"
   ]
  },
  {
   "cell_type": "code",
   "execution_count": null,
   "metadata": {},
   "outputs": [],
   "source": [
    "duplicated_lc.meta\n"
   ]
  },
  {
   "cell_type": "code",
   "execution_count": null,
   "metadata": {},
   "outputs": [],
   "source": [
    "sncosmo.plot_lc(duplicated_lc);\n"
   ]
  },
  {
   "cell_type": "code",
   "execution_count": null,
   "metadata": {},
   "outputs": [],
   "source": [
    "duplicated_lc\n"
   ]
  },
  {
   "cell_type": "markdown",
   "metadata": {},
   "source": [
    "## Adding PWV Variability\n",
    "\n",
    "The `sncosmo` package doesn't have a clearly defined approach to adding time variabile propagation effects, so we impliment a slightly hacky solution. To make this work we impliment \n",
    "1. A function that returned the desired PWV as a function of time.\n",
    "2. A child class of `sncosmo.Source` that incorporates PWV transmission effects by overloading the flux calculation of an existing sncosmo source.\n",
    "\n",
    "We define the first of these below. The interpolator maps a given datetime onto the number of seconds that have elapsed since the start of the year. This number is used to interpolate the PWV from a single year's worth of PWV measurements. "
   ]
  },
  {
   "cell_type": "code",
   "execution_count": null,
   "metadata": {},
   "outputs": [],
   "source": [
    "def datetime_to_sec_in_year(dates):\n",
    "    \"\"\"Calculate number of seconds elapsed modulo 1 year\n",
    "    \n",
    "    Args:\n",
    "        dates (pd.Datetime): Pandas datetime array\n",
    "        \n",
    "    Returns:\n",
    "        A numpy array of integers\n",
    "    \"\"\"\n",
    "    \n",
    "    dates = pd.to_datetime(dates)\n",
    "    \n",
    "    hour_in_day = 24\n",
    "    min_in_hour = sec_in_min = 60\n",
    "    return (\n",
    "        dates.dayofyear * hour_in_day * min_in_hour * sec_in_min\n",
    "        + dates.hour * min_in_hour * sec_in_min\n",
    "        + dates.minute * sec_in_min\n",
    "    )\n",
    "\n",
    "\n",
    "def build_interpolater_from_suomi_data(df, year, df_col='CTIO'):\n",
    "    \"\"\"Build interpolator for the PWV at a given point of the year\n",
    "    \n",
    "    Args:\n",
    "        df (DataFrame): Dataframe with PWV values and a Datetime index\n",
    "        year   (float): Year of data to use from ``df``\n",
    "        df_col   (str): Name of column in `df` with PWV values\n",
    "    \"\"\"\n",
    "    \n",
    "    sample_data = df[df.index.year == year]\n",
    "    \n",
    "    def interp(mjd):\n",
    "        x = Time(mjd, format='mjd').to_datetime()\n",
    "        return np.interp(\n",
    "            x=datetime_to_sec_in_year(x),\n",
    "            xp=datetime_to_sec_in_year(sample_data.index),\n",
    "            fp=sample_data[df_col]\n",
    "        )\n",
    "    \n",
    "    return interp\n"
   ]
  },
  {
   "cell_type": "code",
   "execution_count": null,
   "metadata": {},
   "outputs": [],
   "source": [
    "pwv_interpolator = build_interpolater_from_suomi_data(good_pwv_data, 2016)\n"
   ]
  },
  {
   "cell_type": "markdown",
   "metadata": {},
   "source": [
    "We make a quick validation plot to validate the interpolation function.\n"
   ]
  },
  {
   "cell_type": "code",
   "execution_count": null,
   "metadata": {},
   "outputs": [],
   "source": [
    "def plot_interpolation_validation(pwv_data, year, df_col='CTIO'):\n",
    "    \"\"\"Overplot the interpolated and measured PWV\n",
    "    \n",
    "    Args:\n",
    "        df (DataFrame): Dataframe with PWV values and a Datetime index\n",
    "        year   (float): Year of data to use from ``df``\n",
    "        df_col   (str): Name of column in `df` with PWV values\n",
    "    \"\"\"\n",
    "    \n",
    "    pwv_interpolator = build_interpolater_from_suomi_data(pwv_data, year)\n",
    "    \n",
    "    test_df = pwv_data[pwv_data.index.year == year][:500].copy()\n",
    "    interpolated_pwv = pwv_interpolator(Time(test_df.index).mjd)\n",
    "\n",
    "    plt.figure(figsize=(9, 3))\n",
    "    plt.scatter(test_df.index, test_df.CTIO, s=20, label='Measured')\n",
    "    plt.plot(test_df.index, interpolated_pwv, label='Interpolated', color='C1')\n",
    "    plt.ylabel('PWV (mm)')\n",
    "    plt.xlabel('Date (UTC)')\n",
    "    plt.legend()\n"
   ]
  },
  {
   "cell_type": "code",
   "execution_count": null,
   "metadata": {},
   "outputs": [],
   "source": [
    "plot_interpolation_validation(good_pwv_data, 2016)\n"
   ]
  },
  {
   "cell_type": "markdown",
   "metadata": {},
   "source": [
    "Next we build the SN model using a customized source. The `PWVSource` class wraps a given SNCosmo source and overloads the underlying flux calculation. Since source objects are not aware of any time metric (other than phase) we need to connect the underlying source object to the parent `Model` obect as follows:\n",
    "\n",
    "\n",
    "> `model_with_pwv = sncosmo.Model(PWVSource('salt2-extended', pwv_interpolator))`\n",
    "> `model_with_pwv.source.parent_model = model_with_pwv`\n",
    "\n",
    "Note that because of this approach, the `t0` parameter for each light-curve is now in units of MJD (i.e., the same units as the interpolation function).\n"
   ]
  },
  {
   "cell_type": "code",
   "execution_count": null,
   "metadata": {},
   "outputs": [],
   "source": [
    "def plot_variable_pwv_model(source, phase=0):\n",
    "    \"\"\"Overplot a sncosmo model with and without temporally variable PWV\n",
    "    \n",
    "    Args:\n",
    "        source (str, Source): sncosmo source to plot\n",
    "        phase        (float): Phase of the supernova to plot\n",
    "    \"\"\"\n",
    "    \n",
    "    wave = np.arange(6000, 12000)\n",
    "\n",
    "    model_without_pwv = sncosmo.Model(source)\n",
    "    flux_without_pwv = model_without_pwv.flux(phase, wave)\n",
    "\n",
    "    model_with_pwv = sncosmo.Model(PWVSource(source, pwv_interpolator))\n",
    "    model_with_pwv.source.parent_model = model_with_pwv\n",
    "    flux_with_pwv = model_with_pwv.flux(phase, wave)\n",
    "\n",
    "    fig, ax = plt.subplots(1, 1, figsize=(6, 3))\n",
    "    ax.plot(wave, flux_without_pwv, label='Base source', color='C1')\n",
    "    ax.plot(wave, flux_with_pwv, label='Source with PWV', color='C0')\n",
    "    ax.set_title('Simulated Flux')\n",
    "    ax.set_ylabel('Flux')\n",
    "    ax.legend()\n",
    "    ax.set_xlabel('Wavelength (A)')\n",
    "    ax.set_xlim(min(wave), max(wave))\n",
    "\n",
    "    plt.tight_layout()\n"
   ]
  },
  {
   "cell_type": "code",
   "execution_count": null,
   "metadata": {},
   "outputs": [],
   "source": [
    "plot_variable_pwv_model('salt2-extended')\n"
   ]
  },
  {
   "cell_type": "markdown",
   "metadata": {},
   "source": [
    "## Fitting Light-Curves"
   ]
  },
  {
   "cell_type": "code",
   "execution_count": null,
   "metadata": {},
   "outputs": [],
   "source": [
    "def iter_custom_lcs(cadence, scatter=True, quality_callback=None, drop_nondetection=False, verbose=True):\n",
    "    \"\"\"Simulate light-curves for a given cadence\n",
    "    \n",
    "    Args:\n",
    "        cadence               (str): Cadence to use when simulating light-curves\n",
    "        scatter              (bool): Add random noise to the flux values\n",
    "        quality_callback (callable): Skip light-curves if this function returns False\n",
    "        drop_nondetection    (bool): Drop data with PHOTFLAG == 0\n",
    "        verbose              (bool): Display a progress bar\n",
    "    \"\"\"\n",
    "    \n",
    "    model_with_pwv = sncosmo.Model(PWVSource(source, pwv_interpolator))\n",
    "    model_with_pwv.source.parent_model = model_with_pwv\n",
    "    \n",
    "    cadence_header = plasticc.get_model_headers(cadence, model=11)[0]\n",
    "    for light_curve in plasticc.iter_lc_for_header(cadence_header, verbose=verbose):\n",
    "        \n",
    "        lc = plasticc.duplicate_plasticc_sncosmo(light_curve, model_with_pwv, scatter=scatter)\n",
    "        if quality_callback and not quality_callback(lc):\n",
    "            continue\n",
    "            \n",
    "        yield lc \n",
    "        "
   ]
  },
  {
   "cell_type": "code",
   "execution_count": null,
   "metadata": {},
   "outputs": [],
   "source": [
    "def passes_quality_cuts(light_curve):\n",
    "    \"\"\"Return whether light-curve has 2+ two bands each with 1+ data point with SNR > 5\n",
    "    \n",
    "    Args:\n",
    "        light_curve (Table): Astropy table with sncosmo formatted light-curve data\n",
    "        \n",
    "    Returns:\n",
    "        A boolean\n",
    "    \"\"\"\n",
    "    \n",
    "    light_curve = light_curve.group_by('band')\n",
    "    \n",
    "    passed_cuts = []\n",
    "    for band_lc in light_curve.groups:\n",
    "        passed_cuts.append((band_lc['flux'] /  band_lc['fluxerr'] > 5).any())\n",
    "        \n",
    "    return sum(passed_cuts) >= 2\n",
    "        "
   ]
  },
  {
   "cell_type": "markdown",
   "metadata": {},
   "source": [
    "**Todo:** This notebook is still under construction. Any cells below this line are not expected to work."
   ]
  },
  {
   "cell_type": "code",
   "execution_count": null,
   "metadata": {
    "scrolled": false
   },
   "outputs": [],
   "source": [
    "bands = ['lsst_hardware_' + b for b in 'ugrizy']\n",
    "\n",
    "# Iterator over simulated light-curves\n",
    "light_curves = iter_custom_lcs('alt_sched_rolling', quality_callback=passes_quality_cuts)\n",
    "\n",
    "# Fit light curves\n",
    "vparams = ['x0', 'x1', 'c']\n",
    "fitted_mag, fitted_params = sn_magnitudes.fit_mag(\n",
    "        'salt2', light_curves, vparams, bands=bands)\n"
   ]
  },
  {
   "cell_type": "code",
   "execution_count": null,
   "metadata": {},
   "outputs": [],
   "source": []
  }
 ],
 "metadata": {
  "kernelspec": {
   "display_name": "Python 3",
   "language": "python",
   "name": "python3"
  },
  "language_info": {
   "codemirror_mode": {
    "name": "ipython",
    "version": 3
   },
   "file_extension": ".py",
   "mimetype": "text/x-python",
   "name": "python",
   "nbconvert_exporter": "python",
   "pygments_lexer": "ipython3",
   "version": "3.7.6"
  }
 },
 "nbformat": 4,
 "nbformat_minor": 4
}
