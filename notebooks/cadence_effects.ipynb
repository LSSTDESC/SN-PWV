{
 "cells": [
  {
   "cell_type": "markdown",
   "metadata": {},
   "source": [
    "# Cadence Effects"
   ]
  },
  {
   "cell_type": "code",
   "execution_count": null,
   "metadata": {},
   "outputs": [],
   "source": [
    "import sys\n",
    "sys.path.insert(0, '../')\n",
    "\n",
    "import numpy as np\n",
    "import sncosmo\n",
    "from astropy.table import Table\n",
    "\n",
    "from sn_analysis import filters\n",
    "from sn_analysis import modeling\n",
    "from sn_analysis import plasticc_data\n",
    "from sn_analysis import sn_magnitudes\n",
    "\n",
    "filters.register_lsst_filters(force=True)\n"
   ]
  },
  {
   "cell_type": "markdown",
   "metadata": {},
   "source": [
    "## Atmospheric Variability\n"
   ]
  },
  {
   "cell_type": "code",
   "execution_count": null,
   "metadata": {},
   "outputs": [],
   "source": [
    "# Todo"
   ]
  },
  {
   "cell_type": "markdown",
   "metadata": {},
   "source": [
    "## Simulating Light-Curves\n",
    "\n",
    "Instead of evaluating different cadences from scratch, we rely on data from the PLaSTICC simulations."
   ]
  },
  {
   "cell_type": "code",
   "execution_count": null,
   "metadata": {},
   "outputs": [],
   "source": [
    "plasticc_data.get_available_cadences()\n"
   ]
  },
  {
   "cell_type": "markdown",
   "metadata": {},
   "source": [
    "The full simulation datasets include simulations for multiple models. Since we don't need this extra information, we only use data for simulated normal SNe (Model number 11)."
   ]
  },
  {
   "cell_type": "code",
   "execution_count": null,
   "metadata": {},
   "outputs": [],
   "source": [
    "plasticc_lc = next(plasticc_data.iter_lc_for_cadence_model('alt_sched_rolling', model=11, verbose=False))\n"
   ]
  },
  {
   "cell_type": "code",
   "execution_count": null,
   "metadata": {},
   "outputs": [],
   "source": [
    "plasticc_lc.meta\n"
   ]
  },
  {
   "cell_type": "code",
   "execution_count": null,
   "metadata": {},
   "outputs": [],
   "source": [
    "plasticc_lc\n"
   ]
  },
  {
   "cell_type": "markdown",
   "metadata": {},
   "source": [
    "As as first step, we reformat the data to be compatible with `sncosmo`."
   ]
  },
  {
   "cell_type": "code",
   "execution_count": null,
   "metadata": {},
   "outputs": [],
   "source": [
    "def iter_formatted_lcs(cadence, verbose=False):\n",
    "    \"\"\"Iterate over \"\"\"\n",
    "    for pointing in plasticc_data.iter_lc_for_cadence_model(cadence, verbose=verbose):\n",
    "        lc = Table({\n",
    "            'time': pointing['MJD'],\n",
    "            'band': ['lsst_hardware_' + f.lower().strip() for f in pointing['FLT']],\n",
    "            'flux': pointing['FLUXCAL'],\n",
    "            'fluxerr': pointing['FLUXCALERR'],\n",
    "            'zp': pointing['ZEROPT'],\n",
    "            'photflag': pointing['PHOTFLAG']\n",
    "        })\n",
    "        \n",
    "        lc['zpsys'] = 'AB'\n",
    "        lc.meta = pointing.meta\n",
    "        yield lc\n",
    "        "
   ]
  },
  {
   "cell_type": "code",
   "execution_count": null,
   "metadata": {},
   "outputs": [],
   "source": [
    "formatted_lc = next(iter_formatted_lcs('alt_sched_rolling'))\n"
   ]
  },
  {
   "cell_type": "code",
   "execution_count": null,
   "metadata": {},
   "outputs": [],
   "source": [
    "sncosmo.plot_lc(formatted_lc);\n"
   ]
  },
  {
   "cell_type": "markdown",
   "metadata": {},
   "source": [
    "We note that many of the above data points are flagged as being non-detections (`photflag == 0`). Here are just the detections."
   ]
  },
  {
   "cell_type": "code",
   "execution_count": null,
   "metadata": {},
   "outputs": [],
   "source": [
    "sncosmo.plot_lc(formatted_lc[formatted_lc['photflag'] != 0]);\n"
   ]
  },
  {
   "cell_type": "markdown",
   "metadata": {},
   "source": [
    "Since we need to add in our own atmospheric variability the pre-tabulated flux values above are of limited use. However, we can use the PLaSTICC light-curves to establish the cadence and model parameters for each simulated light-curve. This information can then be used to simulate our own light-curves with `sncosmo`.\n",
    "\n",
    "Most of the data we need can be pulled directly from the light-curve or it's meta data. The one exception is the gain and skynoise, which need to be calculated:\n",
    "\n",
    "$$ \\sigma_f = \\sqrt{\\sigma_s ^ 2 + \\frac{|f|}{gain}} $$\n",
    "$$ \\sigma_f^2 = \\sigma_s^2 + \\frac{|f|}{gain} $$\n",
    "$$ \\sigma_f^2 - \\frac{|f|}{gain} = \\sigma_s^2 $$\n",
    "$$ \\sqrt{\\sigma_f^2 - \\frac{|f|}{gain}} = \\sigma_s $$\n"
   ]
  },
  {
   "cell_type": "code",
   "execution_count": null,
   "metadata": {},
   "outputs": [],
   "source": [
    "def iter_sncosmo_lc(cadence, verbose=True):\n",
    "    model = sncosmo.Model('Salt2')\n",
    "    for formated_lc in iter_formatted_lcs(cadence, verbose=verbose):\n",
    "        observations = formatted_lc[['band', 'time', 'zp', 'zpsys']]\n",
    "        observations['gain'] = 10\n",
    "        observations['skynoise'] = np.sqrt(formatted_lc['fluxerr'] ** 2 - np.abs(formatted_lc['flux']) / observations['gain'])\n",
    "\n",
    "        params = [{\n",
    "            't0': formatted_lc.meta['PEAKMJD'], \n",
    "            'x0': formatted_lc.meta['SIM_SALT2x0'], \n",
    "            'x1': formatted_lc.meta['SIM_SALT2x1'],\n",
    "            'c': formatted_lc.meta['SIM_SALT2c'], \n",
    "            'z': formatted_lc.meta['REDSHIFT_FINAL']\n",
    "        }]\n",
    "\n",
    "        yield sncosmo.realize_lcs(observations, model, params)[0]\n"
   ]
  },
  {
   "cell_type": "code",
   "execution_count": null,
   "metadata": {},
   "outputs": [],
   "source": [
    "sncosmo_lc = next(iter_sncosmo_lc('alt_sched_rolling', verbose=False))\n"
   ]
  },
  {
   "cell_type": "code",
   "execution_count": null,
   "metadata": {},
   "outputs": [],
   "source": [
    "sncosmo.plot_lc(sncosmo_lc);\n"
   ]
  },
  {
   "cell_type": "code",
   "execution_count": null,
   "metadata": {},
   "outputs": [],
   "source": [
    "sncosmo_lc\n"
   ]
  },
  {
   "cell_type": "markdown",
   "metadata": {},
   "source": [
    "## Light-Curve Fits"
   ]
  },
  {
   "cell_type": "code",
   "execution_count": null,
   "metadata": {
    "scrolled": false
   },
   "outputs": [],
   "source": [
    "bands = ['lsst_hardware_' + b for b in 'ugrizy']\n",
    "\n",
    "# Iterator over simulated light-curves\n",
    "light_curves = iter_sncosmo_lc('alt_sched_rolling')\n",
    "\n",
    "# Fit light curves\n",
    "vparams = ['x0', 'x1', 'c']\n",
    "fitted_mag, fitted_params = sn_magnitudes.fit_mag(\n",
    "        'salt2', light_curves, vparams, bands=bands)\n"
   ]
  },
  {
   "cell_type": "code",
   "execution_count": null,
   "metadata": {},
   "outputs": [],
   "source": []
  }
 ],
 "metadata": {
  "kernelspec": {
   "display_name": "Python 3",
   "language": "python",
   "name": "python3"
  },
  "language_info": {
   "codemirror_mode": {
    "name": "ipython",
    "version": 3
   },
   "file_extension": ".py",
   "mimetype": "text/x-python",
   "name": "python",
   "nbconvert_exporter": "python",
   "pygments_lexer": "ipython3",
   "version": "3.7.4"
  }
 },
 "nbformat": 4,
 "nbformat_minor": 4
}
