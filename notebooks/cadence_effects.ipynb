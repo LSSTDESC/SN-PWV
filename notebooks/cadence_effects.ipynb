{
 "cells": [
  {
   "cell_type": "markdown",
   "metadata": {},
   "source": [
    "# Cadence Effects\n",
    "\n",
    "This notebook simulates normal Type Ia Supernova (SN Ia) light-curves using realistic cadences and atmospheric variabilities expected from LSST.\n"
   ]
  },
  {
   "cell_type": "code",
   "execution_count": null,
   "metadata": {},
   "outputs": [],
   "source": [
    "import sys\n",
    "sys.path.insert(0, '../')\n",
    "\n",
    "import sncosmo\n",
    "from astropy.io import fits\n",
    "from astropy.table import Table\n",
    "from matplotlib import pyplot as plt\n",
    "from pwv_kpno.package_settings import ConfigBuilder, settings\n",
    "from pwv_kpno import pwv_atm\n",
    "\n",
    "from sn_analysis import filters\n",
    "from sn_analysis import plasticc\n",
    "from sn_analysis import plotting\n",
    "\n",
    "filters.register_lsst_filters(force=True)\n"
   ]
  },
  {
   "cell_type": "code",
   "execution_count": null,
   "metadata": {},
   "outputs": [],
   "source": [
    "plt.rcParams['figure.dpi'] = 100\n"
   ]
  },
  {
   "cell_type": "markdown",
   "metadata": {},
   "source": [
    "## Atmospheric Variability\n",
    "\n",
    "To create a physically reasonable representation of the atmospheric variability at LSST, we use PWV measurements taken at the nearby Cerro Telolo International Observatory (CTIO).\n"
   ]
  },
  {
   "cell_type": "code",
   "execution_count": null,
   "metadata": {},
   "outputs": [],
   "source": [
    "ctio_config = ConfigBuilder(\n",
    "    site_name='cerro_tololo',\n",
    "    primary_rec='CTIO',\n",
    "    sup_rec=[]\n",
    ")\n",
    "\n",
    "ctio_config.save_to_ecsv('./cerro_tololo.ecsv', overwrite=True)\n",
    "settings.import_site_config('./cerro_tololo.ecsv', overwrite=True)\n",
    "settings.set_site('cerro_tololo')\n"
   ]
  },
  {
   "cell_type": "code",
   "execution_count": null,
   "metadata": {},
   "outputs": [],
   "source": [
    "pwv_atm.update_models(range(2012, 2019))\n"
   ]
  },
  {
   "cell_type": "code",
   "execution_count": null,
   "metadata": {},
   "outputs": [],
   "source": [
    "ctio_pwv = pwv_atm.measured_pwv().to_pandas('date')\n",
    "\n",
    "ctio_pwv.reset_index().plot.scatter('date', 'CTIO', s=1, figsize=(10, 4), alpha=.2)\n",
    "plt.ylabel('CTIO PWV (mm)')\n",
    "plt.xlabel('Date')\n",
    "plt.title('All available PWV measurements for CTIO')\n",
    "plt.ylim(0, 20)\n"
   ]
  },
  {
   "cell_type": "markdown",
   "metadata": {},
   "source": [
    "We don't have enough data to fully represent a 10 year long survey. Fortunately we are mostly interested in timescales of seasonal variability and shorter so we can consider data from a single year with good measurement coverage. "
   ]
  },
  {
   "cell_type": "code",
   "execution_count": null,
   "metadata": {},
   "outputs": [],
   "source": [
    "plotting.plot_year_pwv_vs_time(ctio_pwv[ctio_pwv.index.year == 2016].CTIO)\n",
    "plt.title('CTIO PWV over 2016');\n"
   ]
  },
  {
   "cell_type": "markdown",
   "metadata": {},
   "source": [
    "Out of simple curiosity, we also visualize the median PWV across all available years.\n"
   ]
  },
  {
   "cell_type": "code",
   "execution_count": null,
   "metadata": {},
   "outputs": [],
   "source": [
    "good_pwv_data = ctio_pwv[ctio_pwv.CTIO <= 25]\n",
    "good_pwv_data.index = good_pwv_data.index.map(lambda t: t.replace(year=2000))  # Use a dummy year\n",
    "folded_pwv = good_pwv_data.groupby(good_pwv_data.index).CTIO.median()\n"
   ]
  },
  {
   "cell_type": "code",
   "execution_count": null,
   "metadata": {
    "scrolled": false
   },
   "outputs": [],
   "source": [
    "plotting.plot_year_pwv_vs_time(folded_pwv)\n",
    "plt.title('Phase folded PWV');\n"
   ]
  },
  {
   "cell_type": "markdown",
   "metadata": {},
   "source": [
    "## The PLaSTICC Data\n",
    "\n",
    "Instead of evaluating different cadences from scratch, we use light-curves from the PLaSTICC simulations. First we check what cadence simulations are available on the notebook's host server.\n"
   ]
  },
  {
   "cell_type": "code",
   "execution_count": null,
   "metadata": {},
   "outputs": [],
   "source": [
    "plasticc.get_available_cadences()\n"
   ]
  },
  {
   "cell_type": "markdown",
   "metadata": {},
   "source": [
    "Simulated light-curves are written in the SNANA file format and are distributed across multiple files. We load a light-curve from one of these files and demosntrate the data model below. Each cadence includes simulations run with multiple supernova models. In this notebook we only need simulations for normal SNe (Model 11). \n"
   ]
  },
  {
   "cell_type": "code",
   "execution_count": null,
   "metadata": {},
   "outputs": [],
   "source": [
    "demo_cadence = 'alt_sched_rolling'\n",
    "demo_cadence_header_files = plasticc.get_model_headers('alt_sched_rolling', 11)\n",
    "\n",
    "demo_header_path = demo_cadence_header_files[0]\n",
    "with fits.open(demo_header_path) as _temp:\n",
    "    light_curves_per_file = len(_temp[1].data) \n",
    "\n",
    "print('Files per cadence:', len(demo_cadence_header_files))\n",
    "print('Max light-curves per file:', light_curves_per_file)\n",
    "    "
   ]
  },
  {
   "cell_type": "code",
   "execution_count": null,
   "metadata": {},
   "outputs": [],
   "source": [
    "plasticc_lc = next(plasticc.iter_lc_for_header(demo_header_path, verbose=False))\n"
   ]
  },
  {
   "cell_type": "code",
   "execution_count": null,
   "metadata": {},
   "outputs": [],
   "source": [
    "plasticc_lc.meta\n"
   ]
  },
  {
   "cell_type": "code",
   "execution_count": null,
   "metadata": {},
   "outputs": [],
   "source": [
    "plasticc_lc\n"
   ]
  },
  {
   "cell_type": "markdown",
   "metadata": {},
   "source": [
    "Here we reformat the data to be compatible with `sncosmo` so we can easily visualize the light-curve.\n"
   ]
  },
  {
   "cell_type": "code",
   "execution_count": null,
   "metadata": {},
   "outputs": [],
   "source": [
    "formatted_lc = plasticc.format_plasticc_sncosmo(plasticc_lc)\n"
   ]
  },
  {
   "cell_type": "code",
   "execution_count": null,
   "metadata": {},
   "outputs": [],
   "source": [
    "sncosmo.plot_lc(formatted_lc);\n"
   ]
  },
  {
   "cell_type": "markdown",
   "metadata": {},
   "source": [
    "## Simulating Light-Curves\n",
    "\n",
    "Since we need to add in our own atmospheric variability, the pre-tabulated flux values above are of limited use. Instead, we use the PLaSTICC light-curves to establish the cadence and model parameters for each simulated SN. This information is then used to simulate our own light-curves with `sncosmo`.\n"
   ]
  },
  {
   "cell_type": "code",
   "execution_count": null,
   "metadata": {},
   "outputs": [],
   "source": [
    "duplicated_lc = plasticc.duplicate_plasticc_sncosmo(plasticc_lc)\n"
   ]
  },
  {
   "cell_type": "code",
   "execution_count": null,
   "metadata": {},
   "outputs": [],
   "source": [
    "duplicated_lc.meta\n"
   ]
  },
  {
   "cell_type": "code",
   "execution_count": null,
   "metadata": {},
   "outputs": [],
   "source": [
    "sncosmo.plot_lc(duplicated_lc);\n"
   ]
  },
  {
   "cell_type": "code",
   "execution_count": null,
   "metadata": {},
   "outputs": [],
   "source": [
    "duplicated_lc\n"
   ]
  },
  {
   "cell_type": "markdown",
   "metadata": {},
   "source": [
    "## Fitting Light-Curves"
   ]
  },
  {
   "cell_type": "code",
   "execution_count": null,
   "metadata": {},
   "outputs": [],
   "source": [
    "def iter_custom_lcs(cadence, scatter=True, quality_callback=None, drop_nondetection=False, verbose=True):\n",
    "    \"\"\"Simulate light-curves for a given cadence\n",
    "    \n",
    "    Args:\n",
    "        cadence               (str): Cadence to use when simulating light-curves\n",
    "        scatter              (bool): Add random noise to the flux values\n",
    "        quality_callback (callable): Skip light-curves if this function returns False\n",
    "        drop_nondetection    (bool): Drop data with PHOTFLAG == 0\n",
    "        verbose              (bool): Display a progress bar\n",
    "    \"\"\"\n",
    "    \n",
    "    cadence_header = plasticc.get_model_headers(cadence, model=11)[0]\n",
    "    for light_curve in plasticc.iter_lc_for_header(cadence_header, verbose=verbose):\n",
    "        \n",
    "        lc = plasticc.duplicate_plasticc_sncosmo(light_curve, scatter=scatter)\n",
    "        if quality_callback and not quality_callback(lc):\n",
    "            continue\n",
    "            \n",
    "        yield lc \n",
    "        "
   ]
  },
  {
   "cell_type": "code",
   "execution_count": null,
   "metadata": {},
   "outputs": [],
   "source": [
    "def passes_quality_cuts(light_curve):\n",
    "    \"\"\"Return whether light-curve has 2+ two bands each with 1+ data point with SNR > 5\n",
    "    \n",
    "    Args:\n",
    "        light_curve (Table): Astropy table with sncosmo formatted light-curve data\n",
    "        \n",
    "    Returns:\n",
    "        A boolean\n",
    "    \"\"\"\n",
    "    \n",
    "    light_curve = light_curve.group_by('band')\n",
    "    \n",
    "    passed_cuts = []\n",
    "    for band_lc in light_curve.groups:\n",
    "        passed_cuts.append((band_lc['flux'] /  band_lc['fluxerr'] > 5).any())\n",
    "        \n",
    "    return sum(passed_cuts) >= 2\n",
    "        "
   ]
  },
  {
   "cell_type": "code",
   "execution_count": null,
   "metadata": {},
   "outputs": [],
   "source": [
    "break  # Stop below cells from running automaticaly when running all cells"
   ]
  },
  {
   "cell_type": "code",
   "execution_count": null,
   "metadata": {
    "scrolled": false
   },
   "outputs": [],
   "source": [
    "bands = ['lsst_hardware_' + b for b in 'ugrizy']\n",
    "\n",
    "# Iterator over simulated light-curves\n",
    "light_curves = iter_custom_lcs('alt_sched_rolling', quality_callback=passes_quality_cuts)\n",
    "\n",
    "# Fit light curves\n",
    "vparams = ['x0', 'x1', 'c']\n",
    "fitted_mag, fitted_params = sn_magnitudes.fit_mag(\n",
    "        'salt2', light_curves, vparams, bands=bands)\n"
   ]
  },
  {
   "cell_type": "code",
   "execution_count": null,
   "metadata": {},
   "outputs": [],
   "source": []
  }
 ],
 "metadata": {
  "kernelspec": {
   "display_name": "Python 3",
   "language": "python",
   "name": "python3"
  },
  "language_info": {
   "codemirror_mode": {
    "name": "ipython",
    "version": 3
   },
   "file_extension": ".py",
   "mimetype": "text/x-python",
   "name": "python",
   "nbconvert_exporter": "python",
   "pygments_lexer": "ipython3",
   "version": "3.8.5"
  }
 },
 "nbformat": 4,
 "nbformat_minor": 4
}