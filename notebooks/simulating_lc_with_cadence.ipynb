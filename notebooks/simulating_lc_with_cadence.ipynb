{
 "cells": [
  {
   "cell_type": "code",
   "execution_count": null,
   "metadata": {},
   "outputs": [],
   "source": [
    "import os\n",
    "import sys\n",
    "\n",
    "os.environ['CADENCE_SIMS'] = '/mnt/md0/sn-sims/'\n",
    "sys.path.insert(0, '../')\n"
   ]
  },
  {
   "cell_type": "markdown",
   "metadata": {},
   "source": [
    "# Cadence Effects\n",
    "\n",
    "This notebook demonstrates the simulation of normal Type Ia Supernova (SN Ia) light-curves using realistic cadences and atmospheric variability expected from LSST. To achieve this we proceed as follows:\n",
    "\n",
    "1. Use data from the PLaSTICC simulations to establish the cadence, light-curve parameters, and location of SNe observed by LSST.\n",
    "2. Apply time variable PWV transmission effects to a simulated light-curve\n",
    "3. Simulate and fit a handful of light-curves for a single cadence and analyze the results.\n",
    "\n"
   ]
  },
  {
   "cell_type": "code",
   "execution_count": null,
   "metadata": {},
   "outputs": [],
   "source": [
    "import numpy as np\n",
    "import sncosmo\n",
    "from astropy import units as u\n",
    "from astropy.coordinates import SkyCoord\n",
    "from astropy.io import fits\n",
    "from astropy.table import Table\n",
    "from matplotlib import pyplot as plt\n",
    "from pwv_kpno.gps_pwv import GPSReceiver\n",
    "\n",
    "from snat_sim import filters, plasticc,  sn_magnitudes, modeling, constants, weather\n"
   ]
  },
  {
   "cell_type": "code",
   "execution_count": null,
   "metadata": {},
   "outputs": [],
   "source": [
    "filters.register_lsst_filters(force=True)\n",
    "\n",
    "plt.rcParams['figure.dpi'] = 100  # Enable HDPI\n",
    "print('Simulation data directory:', plasticc.plasticc_simulations_directory)\n"
   ]
  },
  {
   "cell_type": "markdown",
   "metadata": {},
   "source": [
    "## The PLaSTICC Data\n",
    "\n",
    "Instead of evaluating different cadences from scratch, we use light-curves from the PLaSTICC simulations. First we check what cadence simulations are available on the notebook's host server.\n"
   ]
  },
  {
   "cell_type": "code",
   "execution_count": null,
   "metadata": {},
   "outputs": [],
   "source": [
    "plasticc.get_available_cadences()\n"
   ]
  },
  {
   "cell_type": "markdown",
   "metadata": {},
   "source": [
    "Simulated light-curves are written in the SNANA file format and are distributed across multiple files. We load a light-curve from one of these files and demonstrate the data model below. Each cadence includes simulations run with multiple supernova models. In this notebook we only need simulations for normal SNe (Model 11).\n"
   ]
  },
  {
   "cell_type": "code",
   "execution_count": null,
   "metadata": {
    "scrolled": true
   },
   "outputs": [],
   "source": [
    "demo_cadence = 'alt_sched'\n",
    "demo_cadence_header_files = plasticc.get_model_headers(demo_cadence, 11)\n",
    "\n",
    "print('Available cadence files:', len(demo_cadence_header_files))\n",
    "print('Available Light-curves: ', plasticc.count_light_curves(demo_cadence, model=11))\n",
    "    "
   ]
  },
  {
   "cell_type": "code",
   "execution_count": null,
   "metadata": {},
   "outputs": [],
   "source": [
    "demo_header_path = demo_cadence_header_files[0]\n",
    "plasticc_lc = next(plasticc.iter_lc_for_header(demo_header_path, verbose=False))\n"
   ]
  },
  {
   "cell_type": "code",
   "execution_count": null,
   "metadata": {},
   "outputs": [],
   "source": [
    "plasticc_lc.meta\n"
   ]
  },
  {
   "cell_type": "code",
   "execution_count": null,
   "metadata": {},
   "outputs": [],
   "source": [
    "plasticc_lc\n"
   ]
  },
  {
   "cell_type": "markdown",
   "metadata": {},
   "source": [
    "Here we reformat the data to be compatible with `sncosmo` so we can easily visualize the light-curve.\n"
   ]
  },
  {
   "cell_type": "code",
   "execution_count": null,
   "metadata": {},
   "outputs": [],
   "source": [
    "formatted_lc = plasticc.format_plasticc_sncosmo(plasticc_lc)\n"
   ]
  },
  {
   "cell_type": "code",
   "execution_count": null,
   "metadata": {},
   "outputs": [],
   "source": [
    "sncosmo.plot_lc(formatted_lc);\n"
   ]
  },
  {
   "cell_type": "markdown",
   "metadata": {},
   "source": [
    "## Simulating Light-Curves\n",
    "\n",
    "Since we need to add in our own atmospheric variability, the pre-tabulated flux values above are of limited use. Instead, we use the PLaSTICC light-curves to establish the cadence and model parameters for each simulated SN. This information is then used to simulate our own light-curves with `sncosmo`.\n"
   ]
  },
  {
   "cell_type": "markdown",
   "metadata": {},
   "source": [
    "**Note:** See Issue 8 (https://github.com/LSSTDESC/SN-PWV/issues/8) for caveats about the following cell."
   ]
  },
  {
   "cell_type": "code",
   "execution_count": null,
   "metadata": {
    "scrolled": false
   },
   "outputs": [],
   "source": [
    "model_for_sim = sncosmo.Model('salt2-extended')\n",
    "duplicated_lc = plasticc.duplicate_plasticc_sncosmo(plasticc_lc, model_for_sim, gain=20, skynr=100)\n"
   ]
  },
  {
   "cell_type": "code",
   "execution_count": null,
   "metadata": {},
   "outputs": [],
   "source": [
    "duplicated_lc.meta\n"
   ]
  },
  {
   "cell_type": "code",
   "execution_count": null,
   "metadata": {},
   "outputs": [],
   "source": [
    "sncosmo.plot_lc(duplicated_lc);\n"
   ]
  },
  {
   "cell_type": "code",
   "execution_count": null,
   "metadata": {},
   "outputs": [],
   "source": [
    "duplicated_lc\n"
   ]
  },
  {
   "cell_type": "markdown",
   "metadata": {},
   "source": [
    "The `sncosmo` package doesn't have a clearly defined approach to adding time variable propagation effects, so we use the custom `snat_sim.Model` class which is similar to the `sncosmo.Model` class but overloads the underlying flux calculation by adding PWV transmission effects. Note that in this approach the `t0` parameter for each light-curve is now in units of MJD (i.e., it must be the same units as the interpolation function).\n"
   ]
  },
  {
   "cell_type": "code",
   "execution_count": null,
   "metadata": {},
   "outputs": [],
   "source": [
    "def plot_variable_pwv_model(model_with_pwv, phase=0, params=dict()):\n",
    "    \"\"\"Overplot a sncosmo model with and without temporally variable PWV\n",
    "    \n",
    "    Args:\n",
    "        source (str, Source): sncosmo source to plot\n",
    "        phase        (float): Phase of the supernova to plot\n",
    "        params        (dict): Non-PWV related parameters for the model\n",
    "    \"\"\"\n",
    "    \n",
    "    wave = np.arange(3000, 12000)\n",
    "    time = phase + params['t0']\n",
    "\n",
    "    model_without_pwv = sncosmo.Model(model_with_pwv.source)\n",
    "    model_without_pwv.update(params)\n",
    "    flux_without_pwv = model_without_pwv.flux(time, wave)\n",
    "\n",
    "    model_with_pwv.update(params)\n",
    "    flux_with_pwv = model_with_pwv.flux(time, wave)\n",
    "\n",
    "    fig, ax = plt.subplots(1, 1, figsize=(6, 3))\n",
    "    ax.plot(wave, flux_without_pwv, label='Base Model', color='C1')\n",
    "    ax.plot(wave, flux_with_pwv, label='Model with PWV', color='C0')\n",
    "    ax.set_title('Simulated Flux')\n",
    "    ax.set_ylabel('Flux')\n",
    "    ax.legend()\n",
    "    ax.set_xlabel('Wavelength (A)')\n",
    "    ax.set_xlim(min(wave), max(wave))\n",
    "\n",
    "    plt.tight_layout()\n"
   ]
  },
  {
   "cell_type": "code",
   "execution_count": null,
   "metadata": {},
   "outputs": [],
   "source": [
    "ctio = GPSReceiver('CTIO', data_cuts={'PWV': [(0, 25)]})\n",
    "ctio.download_available_data(year=range(2012, 2018))\n",
    "\n",
    "pwv_model = weather.build_suominet_model(ctio, 2016, [2017])\n",
    "pwv_effect_no_airmass = modeling.VariablePWVTrans(pwv_model, scale_airmass=False)\n",
    "pwv_effect_no_airmass.set(res=5)\n",
    "\n",
    "demo_model = modeling.Model(\n",
    "    source='salt2-extended',\n",
    "    effects=[pwv_effect_no_airmass],\n",
    "    effect_names=[''],\n",
    "    effect_frames=['obs']\n",
    ")\n",
    "\n",
    "plot_variable_pwv_model(\n",
    "    demo_model,     \n",
    "    params = {\n",
    "        'z': 0.752069652,\n",
    "        't0': 61900,\n",
    "        'x0': 3e-06,\n",
    "        'x1': -1.8,\n",
    "        'c': -0.1}\n",
    ")\n"
   ]
  },
  {
   "cell_type": "markdown",
   "metadata": {},
   "source": [
    "## Airmass Scaling\n"
   ]
  },
  {
   "cell_type": "code",
   "execution_count": null,
   "metadata": {
    "scrolled": false
   },
   "outputs": [],
   "source": [
    "def plot_airmass_validation(cadence, model=11, mjd=0):\n",
    "    ra = []\n",
    "    dec = []\n",
    "    peak = []\n",
    "\n",
    "    for header_path in plasticc.get_model_headers(cadence, 11):\n",
    "        header_data = fits.open(header_path)[1].data\n",
    "        ra.extend(header_data['RA'])\n",
    "        dec.extend(header_data['DECL'])\n",
    "        if mjd == 'peak':\n",
    "            peak.extend(header_data['PEAKMJD'])\n",
    "\n",
    "    if mjd == 'peak':\n",
    "        mjd = peak\n",
    "    \n",
    "    airmass = modeling.calc_airmass(\n",
    "        time=mjd,\n",
    "        ra=ra,\n",
    "        dec=dec,\n",
    "        lat=constants.vro_latitude.value,\n",
    "        lon=constants.vro_longitude.value,\n",
    "        alt=constants.vro_longitude.value\n",
    "    )\n",
    "\n",
    "    \n",
    "    is_positive_airmass = np.array(airmass) >= 0 \n",
    "    positive_airmass = airmass[is_positive_airmass]\n",
    "    \n",
    "    lsst_coord = SkyCoord(constants.vro_latitude, constants.vro_longitude).galactic\n",
    "    sn_coord = SkyCoord(ra, dec, unit=u.deg).galactic\n",
    "    positive_coords = sn_coord[is_positive_airmass]\n",
    "    negative_coords = sn_coord[~is_positive_airmass]\n",
    "    \n",
    "    plt.figure(figsize=(10, 5))\n",
    "    plt.subplot(111, projection='aitoff')\n",
    "    plt.grid(True)\n",
    "    \n",
    "    scat = plt.scatter(positive_coords.l.wrap_at('180d').radian, positive_coords.b.radian, c=positive_airmass, vmin=1, vmax=8, s=10)\n",
    "    plt.scatter(negative_coords.l.wrap_at('180d').radian, negative_coords.b.radian, c='lightgrey', label='Over Horizon')\n",
    "    plt.scatter(lsst_coord.l.wrap_at('180d').radian, lsst_coord.b.radian,color='C1', marker='*', s=100, label='VRO')\n",
    "    plt.legend(framealpha=1)\n",
    "    plt.colorbar(scat).set_label('Airmass', rotation=270, labelpad=15)\n",
    "    "
   ]
  },
  {
   "cell_type": "code",
   "execution_count": null,
   "metadata": {},
   "outputs": [],
   "source": [
    "plot_airmass_validation(demo_cadence)\n"
   ]
  },
  {
   "cell_type": "markdown",
   "metadata": {},
   "source": [
    "## Fitting Light-Curves\n",
    "\n",
    "We create an iterator that extracts cadence data from PLaSTICC light-curves and simulates custom light-curves with time variable PWV effects. We then fit each light-curve and look at the aggregate properties. In order to ensure a successful fit for each light-curve, we apply the following quality cuts:\n",
    "\n",
    "1. Light-curves must have at least one point with SNR >= 5 in two or more bands\n",
    "2. So that the simulated data is within the wavelength range of the model, light-curves with a redshift greater than .8 are dropped. "
   ]
  },
  {
   "cell_type": "code",
   "execution_count": null,
   "metadata": {},
   "outputs": [],
   "source": [
    "def iter_custom_lcs(\n",
    "        model, cadence, iter_lim=None, gain=20, skynr=100, quality_callback=None, verbose=True):\n",
    "    \"\"\"Simulate light-curves for a given PLaSTICC cadence\n",
    "    \n",
    "    Args:\n",
    "        model               (Model): Model to use in the simulations\n",
    "        cadence               (str): Cadence to use when simulating light-curves\n",
    "        gain                  (int): Gain to use during simulation\n",
    "        skynr                 (int): Simulate skynoise by scaling plasticc ``SKY_SIG`` by 1 / skynr\n",
    "        quality_callback (callable): Skip light-curves if this function returns False\n",
    "        verbose              (bool): Display a progress bar\n",
    "    \"\"\"\n",
    "    \n",
    "    # model = copy(model)\n",
    "    \n",
    "    # Determine redshift limit of the given model\n",
    "    u_band_low = sncosmo.get_bandpass('lsst_hardware_u').minwave()\n",
    "    source_low = model.source.minwave()\n",
    "    zlim = (u_band_low / source_low) - 1\n",
    "    \n",
    "    counter = -1\n",
    "    iter_lim = float('inf') if iter_lim is None else iter_lim\n",
    "    for light_curve in plasticc.iter_lc_for_cadence_model(cadence, model=11, verbose=verbose):\n",
    "        counter += 1\n",
    "        if counter >= iter_lim:\n",
    "            break\n",
    "        \n",
    "        if light_curve.meta['SIM_REDSHIFT_CMB'] >= zlim:\n",
    "            continue\n",
    "        \n",
    "        model.set(ra=light_curve.meta['RA'], dec=light_curve.meta['DECL'])\n",
    "        duplicated_lc = plasticc.duplicate_plasticc_sncosmo(light_curve, model, gain=gain, skynr=skynr)\n",
    "        \n",
    "        # sncosmo.plot_lc(duplicated_lc)\n",
    "        # plt.show()\n",
    "\n",
    "        if quality_callback and not quality_callback(duplicated_lc):\n",
    "            continue\n",
    "            \n",
    "\n",
    "        yield duplicated_lc \n",
    "        "
   ]
  },
  {
   "cell_type": "code",
   "execution_count": null,
   "metadata": {},
   "outputs": [],
   "source": [
    "def passes_quality_cuts(light_curve):\n",
    "    \"\"\"Return whether light-curve has 2+ two bands each with 1+ data point with SNR > 5\n",
    "    \n",
    "    Args:\n",
    "        light_curve (Table): Astropy table with sncosmo formatted light-curve data\n",
    "        \n",
    "    Returns:\n",
    "        A boolean\n",
    "    \"\"\"\n",
    "    \n",
    "    if light_curve.meta['z'] > .88:\n",
    "        return False\n",
    "    \n",
    "    light_curve = light_curve.group_by('band')\n",
    "    \n",
    "    passed_cuts = []\n",
    "    for band_lc in light_curve.groups:\n",
    "        passed_cuts.append((band_lc['flux'] /  band_lc['fluxerr'] > 5).any())\n",
    "        \n",
    "    return sum(passed_cuts) >= 2\n",
    "        "
   ]
  },
  {
   "cell_type": "markdown",
   "metadata": {},
   "source": [
    "We pause to visually check a light-curves from our iterator. As a simple validation, we simulate light-curves with and without PWV."
   ]
  },
  {
   "cell_type": "code",
   "execution_count": null,
   "metadata": {},
   "outputs": [],
   "source": [
    "variable_pwv_effect = modeling.VariablePWVTrans(pwv_interpolator)\n",
    "variable_pwv_effect.set(res=5)\n",
    "\n",
    "sn_model_with_pwv = modeling.Model(\n",
    "    source='salt2-extended',\n",
    "    effects=[variable_pwv_effect],\n",
    "    effect_names=[''],\n",
    "    effect_frames=['obs']\n",
    ")\n"
   ]
  },
  {
   "cell_type": "code",
   "execution_count": null,
   "metadata": {
    "scrolled": false
   },
   "outputs": [],
   "source": [
    "l = next(iter_custom_lcs(sn_model_with_pwv, demo_cadence, verbose=False))\n",
    "sncosmo.plot_lc(l);\n"
   ]
  },
  {
   "cell_type": "code",
   "execution_count": null,
   "metadata": {
    "scrolled": false
   },
   "outputs": [],
   "source": [
    "light_curves = iter_custom_lcs(sn_model_with_pwv, demo_cadence, iter_lim=5, quality_callback=passes_quality_cuts)\n",
    "\n",
    "model_without_pwv = sncosmo.Model('salt2-extended')\n",
    "fitted_mag, fitted_params = sn_magnitudes.fit_mag(\n",
    "    model=model_without_pwv, \n",
    "    light_curves=light_curves, \n",
    "    vparams=['x0', 'x1', 'c'], \n",
    "    bands=['lsst_hardware_' + b for b in 'ugrizy'])\n"
   ]
  },
  {
   "cell_type": "code",
   "execution_count": null,
   "metadata": {},
   "outputs": [],
   "source": []
  }
 ],
 "metadata": {
  "kernelspec": {
   "display_name": "Python 3",
   "language": "python",
   "name": "python3"
  },
  "language_info": {
   "codemirror_mode": {
    "name": "ipython",
    "version": 3
   },
   "file_extension": ".py",
   "mimetype": "text/x-python",
   "name": "python",
   "nbconvert_exporter": "python",
   "pygments_lexer": "ipython3",
   "version": "3.8.5"
  }
 },
 "nbformat": 4,
 "nbformat_minor": 4
}
