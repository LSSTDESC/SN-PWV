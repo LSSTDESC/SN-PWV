{
 "cells": [
  {
   "cell_type": "markdown",
   "metadata": {},
   "source": [
    "# Cadence Effects\n",
    "\n",
    "This notebook uses simulates normal Type Ia Supernova (SN Ia) light-curves using realistic cadences and atmospheric variabilities expected from LSST. To achieve this we proceed as follows:\n",
    "\n",
    "1. Impliment an interpolator that determines the desired PWV as a function of time (MJD).\n",
    "2. Use data from the PLaSTICC simulations to establish the cadence, light-curve parameters, and location of SNe observed by LSST.\n",
    "3. Apply time variable PWV transmission effects to a simulated light-curve\n",
    "4. Simulate and fit a handful of light-curves for a single cadence and anlyize the results.\n",
    "\n"
   ]
  },
  {
   "cell_type": "code",
   "execution_count": null,
   "metadata": {},
   "outputs": [],
   "source": [
    "import sys\n",
    "import warnings\n",
    "from datetime import datetime, timedelta\n",
    "\n",
    "import numpy as np\n",
    "import pandas as pd\n",
    "import sncosmo\n",
    "from astropy.io import fits\n",
    "from astropy.table import Table\n",
    "from astropy.time import Time\n",
    "from matplotlib import pyplot as plt\n",
    "from pwv_kpno.gps_pwv import GPSReceiver\n",
    "\n",
    "sys.path.insert(0, '../')\n",
    "from sn_analysis import filters, plasticc, plotting, sn_magnitudes, modeling \n"
   ]
  },
  {
   "cell_type": "code",
   "execution_count": null,
   "metadata": {},
   "outputs": [],
   "source": [
    "filters.register_lsst_filters(force=True)\n",
    "\n",
    "plt.rcParams['figure.dpi'] = 100\n",
    "print('Simulation data directory:', plasticc.plasticc_simulations_directory)\n"
   ]
  },
  {
   "cell_type": "markdown",
   "metadata": {},
   "source": [
    "## Atmospheric Variability\n",
    "\n",
    "To create a physically reasonable representation of the atmospheric variability at LSST, we use PWV measurements taken at the nearby Cerro Telolo International Observatory (CTIO).\n"
   ]
  },
  {
   "cell_type": "code",
   "execution_count": null,
   "metadata": {},
   "outputs": [],
   "source": [
    "ctio = GPSReceiver('CTIO', data_cuts={'PWV': [(0, 25)]})\n",
    "ctio.download_available_data(year=range(2012, 2018))\n"
   ]
  },
  {
   "cell_type": "code",
   "execution_count": null,
   "metadata": {
    "scrolled": false
   },
   "outputs": [],
   "source": [
    "ctio_weather = ctio.weather_data()\n",
    "\n",
    "ctio_weather.reset_index().plot.scatter('date', 'PWV', s=1, figsize=(10, 4), alpha=.2)\n",
    "plt.ylabel('CTIO PWV (mm)')\n",
    "plt.xlabel('Date')\n",
    "plt.title('All available PWV measurements for CTIO')\n",
    "plt.ylim(0, 25)\n"
   ]
  },
  {
   "cell_type": "markdown",
   "metadata": {},
   "source": [
    "We don't have enough data to fully represent a 10 year long survey. Fortunately we are mostly interested in timescales of seasonal variability and shorter so we can consider data from a single year with good measurement coverage. The two years with the best coverage are 2016 and 2017."
   ]
  },
  {
   "cell_type": "code",
   "execution_count": null,
   "metadata": {
    "scrolled": false
   },
   "outputs": [],
   "source": [
    "for year in range(2012, 2018):\n",
    "    weather_for_year = ctio_weather[ctio_weather.index.year == year]\n",
    "    plotting.plot_year_pwv_vs_time(weather_for_year.PWV)\n",
    "    plt.title(f'CTIO PWV over {year}');\n",
    "    plt.show()\n"
   ]
  },
  {
   "cell_type": "markdown",
   "metadata": {},
   "source": [
    "Instead of thinking through some fancy statistics, we keep our approach simple and suppliment missing data from 2016 with measurements taken in 2017.\n"
   ]
  },
  {
   "cell_type": "code",
   "execution_count": null,
   "metadata": {},
   "outputs": [],
   "source": [
    "stacked_pwv = ctio_weather[np.isin(ctio_weather.index.year, (2016, 2017))].PWV\n",
    "stacked_pwv = stacked_pwv.sort_index()\n",
    "\n",
    "new_index = []\n",
    "for date_idx in stacked_pwv.index:\n",
    "    new_index.append(date_idx.replace(year=2016))\n",
    "    \n",
    "# Suppliment missing data\n",
    "stacked_pwv.index = new_index\n",
    "stacked_pwv = stacked_pwv[~stacked_pwv.index.duplicated(keep='first')]\n",
    "\n",
    "# Resample and interpolate any missing values\n",
    "stacked_pwv = stacked_pwv.resample('30min', offset=timedelta(minutes=15)).interpolate()\n",
    "\n",
    "plotting.plot_year_pwv_vs_time(stacked_pwv)\n",
    "plt.title('PWV Model');\n"
   ]
  },
  {
   "cell_type": "markdown",
   "metadata": {},
   "source": [
    "There may stil a few periods of missing data in the above figure. Fortunatly these periods are short so they can be interpolated over. To interpolate the PWV for a given datetime, we reindex our PWV model using the number of seconds that have elapsed in a given year. To avoid extrapolating at the boundaries, we extend our PWV model to slightly before / after the beggining / end of the year by wrapping the data across the boundaries.\n"
   ]
  },
  {
   "cell_type": "code",
   "execution_count": null,
   "metadata": {},
   "outputs": [],
   "source": [
    "def datetime_to_sec_in_year(dates):\n",
    "    \"\"\"Calculate number of seconds elapsed modulo 1 year\n",
    "    \n",
    "    Args:\n",
    "        dates (pd.Datetime): Pandas datetime array\n",
    "        \n",
    "    Returns:\n",
    "        A numpy array of integers\n",
    "    \"\"\"\n",
    "    \n",
    "    dates = pd.to_datetime(dates)\n",
    "    \n",
    "    hour_in_day = 24\n",
    "    min_in_hour = sec_in_min = 60\n",
    "    return (\n",
    "        dates.dayofyear * hour_in_day * min_in_hour * sec_in_min\n",
    "        + dates.hour * min_in_hour * sec_in_min\n",
    "        + dates.minute * sec_in_min\n",
    "    )\n"
   ]
  },
  {
   "cell_type": "code",
   "execution_count": null,
   "metadata": {},
   "outputs": [],
   "source": [
    "# Convert index values to seconds\n",
    "pwv_model = stacked_pwv.copy()\n",
    "pwv_model.index = datetime_to_sec_in_year(pwv_model.index)\n",
    "\n",
    "# Resample the index to span the whole year\n",
    "end_of_year = 365.25 * 24 * 60 * 60  # Days in year * hours * min * sec\n",
    "delta = pwv_model.index[1] - pwv_model.index[0]\n",
    "offset = pwv_model.index[1] % delta\n",
    "new_indices = np.arange(-offset, end_of_year + offset + 2 * delta, delta)\n",
    "pwv_model = pwv_model.reindex(new_indices) \n",
    "\n",
    "# Wrap values across the boundaries and fill nans with interpolation\n",
    "first_not_nan, *_, last_not_nan = np.where(~pwv_model.isna())[0]\n",
    "pwv_model.iloc[0] = pwv_model.iloc[last_not_nan]\n",
    "pwv_model.iloc[-1] = pwv_model.iloc[first_not_nan]\n",
    "pwv_model = pwv_model.interpolate()\n"
   ]
  },
  {
   "cell_type": "code",
   "execution_count": null,
   "metadata": {},
   "outputs": [],
   "source": [
    "pwv_model.plot(marker='o', linestyle='', markersize=1)\n",
    "plt.xlabel('Seconds in year')\n",
    "plt.ylabel('PWV (mm)')\n",
    "plt.title('PWV Model')\n",
    "plt.xlim(pwv_model.index.min(), pwv_model.index.max())\n",
    "plt.ylim(0, 25)\n"
   ]
  },
  {
   "cell_type": "code",
   "execution_count": null,
   "metadata": {},
   "outputs": [],
   "source": [
    "def build_interpolater_from_suomi_data(pwv_model):\n",
    "    \"\"\"Build interpolator for the PWV at a given point of the year\n",
    "    \n",
    "    Args:\n",
    "        pwv_model (Series): PWV values indexed by seconds in year\n",
    "        \n",
    "    Returns:\n",
    "        An interpolation function that accepts MJD\n",
    "    \"\"\"\n",
    "    \n",
    "    def interp(mjd):\n",
    "        \n",
    "        with warnings.catch_warnings():\n",
    "            warnings.filterwarnings(\"ignore\")\n",
    "            x_as_datetime = Time(mjd, format='mjd').to_datetime()\n",
    "            x_in_seconds = datetime_to_sec_in_year(x_as_datetime)\n",
    "                \n",
    "        return np.interp(\n",
    "            x=x_in_seconds,\n",
    "            xp=pwv_model.index,\n",
    "            fp=pwv_model.values\n",
    "        )\n",
    "    \n",
    "    return interp\n"
   ]
  },
  {
   "cell_type": "code",
   "execution_count": null,
   "metadata": {},
   "outputs": [],
   "source": [
    "pwv_interpolator = build_interpolater_from_suomi_data(pwv_model)\n"
   ]
  },
  {
   "cell_type": "markdown",
   "metadata": {},
   "source": [
    "We make a quick validation plot to check the interpolation function.\n"
   ]
  },
  {
   "cell_type": "code",
   "execution_count": null,
   "metadata": {},
   "outputs": [],
   "source": [
    "def plot_interpolation_validation(pwv_data, pwv_interpolator):\n",
    "    \"\"\"Overplot the interpolated and measured PWV\n",
    "    \n",
    "    Args:\n",
    "        df (DataFrame): Dataframe with PWV values and a Datetime index\n",
    "        year   (float): Year of data to use from ``df``\n",
    "    \"\"\"\n",
    "    \n",
    "    pwv_data = pwv_data.sort_index()\n",
    "    interpolated_pwv = pwv_interpolator(Time(pwv_data.index).mjd)\n",
    "\n",
    "    plt.figure(figsize=(9, 3))\n",
    "    plt.scatter(pwv_data.index, pwv_data.values, s=2, alpha=.1, label='Measured')\n",
    "    plt.plot(pwv_data.index, interpolated_pwv, label='Interpolated', color='C1', alpha=.75)\n",
    "    plt.ylabel('PWV (mm)')\n",
    "    plt.xlabel('Date (UTC)')\n",
    "    plt.legend()\n"
   ]
  },
  {
   "cell_type": "code",
   "execution_count": null,
   "metadata": {},
   "outputs": [],
   "source": [
    "plot_interpolation_validation(ctio_weather.PWV, pwv_interpolator)\n",
    "plt.xlim(datetime(2016, 1, 1), datetime(2018, 1, 1))\n"
   ]
  },
  {
   "cell_type": "markdown",
   "metadata": {},
   "source": [
    "## The PLaSTICC Data\n",
    "\n",
    "Instead of evaluating different cadences from scratch, we use light-curves from the PLaSTICC simulations. First we check what cadence simulations are available on the notebook's host server.\n"
   ]
  },
  {
   "cell_type": "code",
   "execution_count": null,
   "metadata": {},
   "outputs": [],
   "source": [
    "plasticc.get_available_cadences()\n"
   ]
  },
  {
   "cell_type": "markdown",
   "metadata": {},
   "source": [
    "Simulated light-curves are written in the SNANA file format and are distributed across multiple files. We load a light-curve from one of these files and demosntrate the data model below. Each cadence includes simulations run with multiple supernova models. In this notebook we only need simulations for normal SNe (Model 11). \n"
   ]
  },
  {
   "cell_type": "code",
   "execution_count": null,
   "metadata": {
    "scrolled": true
   },
   "outputs": [],
   "source": [
    "demo_cadence = 'alt_sched'\n",
    "demo_cadence_header_files = plasticc.get_model_headers(demo_cadence, 11)\n",
    "\n",
    "print('Available cadence files:', len(demo_cadence_header_files))\n",
    "print('Available Light-curves: ', plasticc.count_light_curves(demo_cadence, model=11))\n",
    "    "
   ]
  },
  {
   "cell_type": "code",
   "execution_count": null,
   "metadata": {},
   "outputs": [],
   "source": [
    "demo_header_path = demo_cadence_header_files[0]\n",
    "plasticc_lc = next(plasticc.iter_lc_for_header(demo_header_path, verbose=False))\n"
   ]
  },
  {
   "cell_type": "code",
   "execution_count": null,
   "metadata": {},
   "outputs": [],
   "source": [
    "plasticc_lc.meta\n"
   ]
  },
  {
   "cell_type": "code",
   "execution_count": null,
   "metadata": {},
   "outputs": [],
   "source": [
    "plasticc_lc\n"
   ]
  },
  {
   "cell_type": "markdown",
   "metadata": {},
   "source": [
    "Here we reformat the data to be compatible with `sncosmo` so we can easily visualize the light-curve.\n"
   ]
  },
  {
   "cell_type": "code",
   "execution_count": null,
   "metadata": {},
   "outputs": [],
   "source": [
    "formatted_lc = plasticc.format_plasticc_sncosmo(plasticc_lc)\n"
   ]
  },
  {
   "cell_type": "code",
   "execution_count": null,
   "metadata": {},
   "outputs": [],
   "source": [
    "sncosmo.plot_lc(formatted_lc);\n"
   ]
  },
  {
   "cell_type": "markdown",
   "metadata": {},
   "source": [
    "## Simulating Light-Curves\n",
    "\n",
    "Since we need to add in our own atmospheric variability, the pre-tabulated flux values above are of limited use. Instead, we use the PLaSTICC light-curves to establish the cadence and model parameters for each simulated SN. This information is then used to simulate our own light-curves with `sncosmo`.\n"
   ]
  },
  {
   "cell_type": "markdown",
   "metadata": {},
   "source": [
    "**Note:** See Issue 8 (https://github.com/LSSTDESC/SN-PWV/issues/8) for caveats about the following cell."
   ]
  },
  {
   "cell_type": "code",
   "execution_count": null,
   "metadata": {
    "scrolled": false
   },
   "outputs": [],
   "source": [
    "model_for_sim = sncosmo.Model('salt2-extended')\n",
    "duplicated_lc = plasticc.duplicate_plasticc_sncosmo(plasticc_lc, model_for_sim, gain=20, skynr=100)\n"
   ]
  },
  {
   "cell_type": "code",
   "execution_count": null,
   "metadata": {},
   "outputs": [],
   "source": [
    "duplicated_lc.meta\n"
   ]
  },
  {
   "cell_type": "code",
   "execution_count": null,
   "metadata": {},
   "outputs": [],
   "source": [
    "sncosmo.plot_lc(duplicated_lc);\n"
   ]
  },
  {
   "cell_type": "code",
   "execution_count": null,
   "metadata": {},
   "outputs": [],
   "source": [
    "duplicated_lc\n"
   ]
  },
  {
   "cell_type": "markdown",
   "metadata": {},
   "source": [
    "The `sncosmo` package doesn't have a clearly defined approach to adding time variabile propagation effects, so we use our own custom modeling class. The `PWVVariableModel` class is a child of the `sncosmo.Model` class and overloads the underlying flux calculation by adding PWV transmission effects. Note that in this approach the `t0` parameter for each light-curve is now in units of MJD (i.e., it must be the same units as the interpolation function).\n"
   ]
  },
  {
   "cell_type": "code",
   "execution_count": null,
   "metadata": {},
   "outputs": [],
   "source": [
    "def plot_variable_pwv_model(model_with_pwv, phase=0, params=dict()):\n",
    "    \"\"\"Overplot a sncosmo model with and without temporally variable PWV\n",
    "    \n",
    "    Args:\n",
    "        source (str, Source): sncosmo source to plot\n",
    "        phase        (float): Phase of the supernova to plot\n",
    "        params        (dict): Non-PWV related parameters for the model\n",
    "    \"\"\"\n",
    "    \n",
    "    wave = np.arange(3000, 12000)\n",
    "    time = phase + params['t0']\n",
    "\n",
    "    model_without_pwv = sncosmo.Model(model_with_pwv.source)\n",
    "    model_without_pwv.update(params)\n",
    "    flux_without_pwv = model_without_pwv.flux(time, wave)\n",
    "\n",
    "    model_with_pwv.update(params)\n",
    "    flux_with_pwv = model_with_pwv.flux(time, wave)\n",
    "\n",
    "    fig, ax = plt.subplots(1, 1, figsize=(6, 3))\n",
    "    ax.plot(wave, flux_without_pwv, label='Base Model', color='C1')\n",
    "    ax.plot(wave, flux_with_pwv, label='Model with PWV', color='C0')\n",
    "    ax.set_title('Simulated Flux')\n",
    "    ax.set_ylabel('Flux')\n",
    "    ax.legend()\n",
    "    ax.set_xlabel('Wavelength (A)')\n",
    "    ax.set_xlim(min(wave), max(wave))\n",
    "\n",
    "    plt.tight_layout()\n"
   ]
  },
  {
   "cell_type": "code",
   "execution_count": null,
   "metadata": {},
   "outputs": [],
   "source": [
    "demo_model = modeling.Model(\n",
    "    source='salt2-extended',\n",
    "    effects=[modeling.VariablePWVTrans(pwv_interpolator)],\n",
    "    effect_names=['PWV_transmission'],\n",
    "    effect_frames=['obs']\n",
    ")\n",
    "\n",
    "plot_variable_pwv_model(\n",
    "    demo_model,     \n",
    "    params = {\n",
    "        'z': 0.752069652,\n",
    "        't0': 61900,\n",
    "        'x0': 3e-06,\n",
    "        'x1': -1.8,\n",
    "        'c': -0.1}\n",
    ")\n"
   ]
  },
  {
   "cell_type": "markdown",
   "metadata": {},
   "source": [
    "## Fitting Light-Curves\n",
    "\n",
    "We create an iterator that extracts cadence data from PLaSTICC light-curves and simulates custom light-curves with time variable PWV effects. We then fit each light-curve and look at the aggregate properties. In order to ensure a successful fit for each light-curve, we apply the following quality cuts:\n",
    "\n",
    "1. Light-curves must have at least one point with SNR >= 5 in two or more bands\n",
    "2. So that the simulated data is within the wavelength range of the model, light-curves with a redshift greater than .8 are dropped. "
   ]
  },
  {
   "cell_type": "code",
   "execution_count": null,
   "metadata": {},
   "outputs": [],
   "source": [
    "def iter_custom_lcs(\n",
    "        model, cadence, iter_lim=None, gain=20, skynr=100, quality_callback=None, verbose=True):\n",
    "    \"\"\"Simulate light-curves for a given PLaSTICC cadence\n",
    "    \n",
    "    Args:\n",
    "        model               (Model): Model to use in the simulations\n",
    "        cadence               (str): Cadence to use when simulating light-curves\n",
    "        gain                  (int): Gain to use during simulation\n",
    "        skynr                 (int): Simulate skynoise by scaling plasticc ``SKY_SIG`` by 1 / skynr\n",
    "        quality_callback (callable): Skip light-curves if this function returns False\n",
    "        verbose              (bool): Display a progress bar\n",
    "    \"\"\"\n",
    "    \n",
    "    u_band_low = sncosmo.get_bandpass('lsst_hardware_u').minwave()\n",
    "    source_low = model.source.minwave()\n",
    "    zlim = (u_band_low / source_low) - 1\n",
    "    \n",
    "    counter = -1\n",
    "    iter_lim = float('inf') if iter_lim is None else iter_lim\n",
    "    for light_curve in plasticc.iter_lc_for_cadence_model(cadence, model=11, verbose=verbose):\n",
    "        counter += 1\n",
    "        if counter >= iter_lim:\n",
    "            break\n",
    "        \n",
    "        if light_curve.meta['SIM_REDSHIFT_CMB'] >= zlim:\n",
    "            continue\n",
    "        \n",
    "        duplicated_lc = plasticc.duplicate_plasticc_sncosmo(light_curve, model, gain=gain, skynr=skynr)\n",
    "        if quality_callback and not quality_callback(duplicated_lc):\n",
    "            continue\n",
    "            \n",
    "\n",
    "        yield duplicated_lc \n",
    "        "
   ]
  },
  {
   "cell_type": "code",
   "execution_count": null,
   "metadata": {},
   "outputs": [],
   "source": [
    "def passes_quality_cuts(light_curve):\n",
    "    \"\"\"Return whether light-curve has 2+ two bands each with 1+ data point with SNR > 5\n",
    "    \n",
    "    Args:\n",
    "        light_curve (Table): Astropy table with sncosmo formatted light-curve data\n",
    "        \n",
    "    Returns:\n",
    "        A boolean\n",
    "    \"\"\"\n",
    "    \n",
    "    if light_curve.meta['z'] > .88:\n",
    "        return False\n",
    "    \n",
    "    light_curve = light_curve.group_by('band')\n",
    "    \n",
    "    passed_cuts = []\n",
    "    for band_lc in light_curve.groups:\n",
    "        passed_cuts.append((band_lc['flux'] /  band_lc['fluxerr'] > 5).any())\n",
    "        \n",
    "    return sum(passed_cuts) >= 2\n",
    "        "
   ]
  },
  {
   "cell_type": "markdown",
   "metadata": {},
   "source": [
    "We pause to visually check a light-curves from our iterator. As a simple validation, we simulate light-curves with and without PWV."
   ]
  },
  {
   "cell_type": "code",
   "execution_count": null,
   "metadata": {
    "scrolled": false
   },
   "outputs": [],
   "source": [
    "l = next(iter_custom_lcs(demo_model, demo_cadence, verbose=False))\n",
    "sncosmo.plot_lc(l);\n"
   ]
  },
  {
   "cell_type": "code",
   "execution_count": null,
   "metadata": {
    "scrolled": false
   },
   "outputs": [],
   "source": [
    "model_without_pwv = sncosmo.Model('salt2-extended')\n",
    "l = next(iter_custom_lcs(model_without_pwv, demo_cadence, verbose=False))\n",
    "sncosmo.plot_lc(l);\n"
   ]
  },
  {
   "cell_type": "code",
   "execution_count": null,
   "metadata": {
    "scrolled": false
   },
   "outputs": [],
   "source": [
    "light_curves = iter_custom_lcs(demo_model, demo_cadence, iter_lim=10, quality_callback=passes_quality_cuts)\n",
    "\n",
    "model_without_pwv = sncosmo.Model('salt2-extended')\n",
    "fitted_mag, fitted_params = sn_magnitudes.fit_mag(\n",
    "    model=model_without_pwv, \n",
    "    light_curves=light_curves, \n",
    "    vparams=['x0', 'x1', 'c'], \n",
    "    bands=['lsst_hardware_' + b for b in 'ugrizy'])\n"
   ]
  },
  {
   "cell_type": "code",
   "execution_count": null,
   "metadata": {},
   "outputs": [],
   "source": []
  }
 ],
 "metadata": {
  "kernelspec": {
   "display_name": "Python 3",
   "language": "python",
   "name": "python3"
  },
  "language_info": {
   "codemirror_mode": {
    "name": "ipython",
    "version": 3
   },
   "file_extension": ".py",
   "mimetype": "text/x-python",
   "name": "python",
   "nbconvert_exporter": "python",
   "pygments_lexer": "ipython3",
   "version": "3.8.3"
  }
 },
 "nbformat": 4,
 "nbformat_minor": 4
}
