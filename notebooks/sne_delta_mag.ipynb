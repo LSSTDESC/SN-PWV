{
 "cells": [
  {
   "cell_type": "markdown",
   "metadata": {},
   "source": [
    "# PWV effects on SN Magnitude\n",
    "\n",
    "This notebook demonstrates the effects of PWV absorption on the apparent magnitude of SNe.\n"
   ]
  },
  {
   "cell_type": "code",
   "execution_count": null,
   "metadata": {},
   "outputs": [],
   "source": [
    "import sys\n",
    "sys.path.insert(0, '../')\n",
    "\n",
    "import numpy as np\n",
    "import sncosmo\n",
    "from astropy.cosmology import FlatLambdaCDM\n",
    "from matplotlib import pyplot as plt\n",
    "from sn_analysis import modeling, sn_magnitudes, reference, plotting\n",
    "from utils import register_decam_filters\n",
    "\n",
    "register_decam_filters(force=True)\n"
   ]
  },
  {
   "cell_type": "code",
   "execution_count": null,
   "metadata": {},
   "outputs": [],
   "source": [
    "source = 'salt2-extended'\n",
    "pwv_vals = np.arange(0, 10)\n",
    "z_vals = np.arange(.01, 1.1, .05)\n",
    "bands = 'decam_r', 'decam_i', 'decam_z', 'decam_y'\n"
   ]
  },
  {
   "cell_type": "markdown",
   "metadata": {},
   "source": [
    "## Spectral Template\n",
    "\n",
    "The effect of PWV absorption is fundementally dependent on the interplay between the SED of the effected object and the PWV transmission function. For this work we consider an extend version of the Salt2 spectral template. We visualize the template as a reference.\n"
   ]
  },
  {
   "cell_type": "code",
   "execution_count": null,
   "metadata": {},
   "outputs": [],
   "source": [
    "_ = plotting.plot_salt2_extended_template(np.arange(4000, 10000), [0, .5, 1], pwv=4)\n"
   ]
  },
  {
   "cell_type": "markdown",
   "metadata": {},
   "source": [
    "## Apparent magnitude\n",
    "\n",
    "We start by considering the direct impact of PWV absorbtion on simulated SN Ia magnitudes. Apparent magnitudes are simulated for multiple bands, redshifts, and PWV concentrations. \n"
   ]
  },
  {
   "cell_type": "code",
   "execution_count": null,
   "metadata": {},
   "outputs": [],
   "source": [
    "tabulated_mag = sn_magnitudes.tabulate_mag(source, pwv_vals, z_vals, bands)\n"
   ]
  },
  {
   "cell_type": "code",
   "execution_count": null,
   "metadata": {},
   "outputs": [],
   "source": [
    "_ = plotting.plot_magnitude(tabulated_mag, pwv_vals, z_vals)"
   ]
  },
  {
   "cell_type": "markdown",
   "metadata": {},
   "source": [
    "---\n",
    "\n",
    "**Sanity Check:** As the spectral template is redshifted, the brighter portion of the spectra begins to enter the redder bands. We expect this to cause a temporary decrease in the apparent magnitude until the redshift becomes large enough that growing distance results in a monotonically increasing magnitude (This effect becomes more obvious when looking at the spectra template above).\n",
    "\n",
    "---"
   ]
  },
  {
   "cell_type": "markdown",
   "metadata": {},
   "source": [
    "To better understand the impact of PWV, we estimate the change in apparent magnitude due to PWV. Although we could measure this change relative to PWV=0, a more physically motivated approach is to use a fiducial atmosphere with a non-zero PWV component:\n",
    "\n",
    "$$\\Delta m = m(\\text{PWV}, z) - m(\\text{PWV}_f, z)$$\n",
    "\n",
    "We also determine the slope in the apparent magnitude as an estimate for how sensitive our simulated observations are to PWV fluxtuations:\n",
    "\n",
    "$$\\frac{\\Delta m}{\\Delta \\text{PWV}}(z) = \\frac{m(\\text{PWV}_2, z) - m(\\text{PWV}_1, z)}{\\text{PWV}_2 - \\text{PWV}_1}$$\n",
    "\n",
    "Here PWV$_1$ and PWV$_2$ are chosen to be equidistant to PWV$_f$. We take note of the chosen PWV reference values in the following cell:\n"
   ]
  },
  {
   "cell_type": "code",
   "execution_count": null,
   "metadata": {},
   "outputs": [],
   "source": [
    "reference_pwv_config = reference.get_config_pwv_vals()\n",
    "print(reference_pwv_config)\n"
   ]
  },
  {
   "cell_type": "markdown",
   "metadata": {},
   "source": [
    "We tabulate values for $\\Delta m$ and $\\frac{\\Delta m}{\\Delta \\text{PWV}}(z)$. "
   ]
  },
  {
   "cell_type": "code",
   "execution_count": null,
   "metadata": {},
   "outputs": [],
   "source": [
    "fiducial_mag = sn_magnitudes.tabulate_fiducial_mag(\n",
    "        source, z_vals, bands, reference_pwv_config)\n",
    "\n",
    "tabulated_delta_mag, tabulated_slope = sn_magnitudes.calc_delta_mag(\n",
    "    tabulated_mag, fiducial_mag, reference_pwv_config)\n"
   ]
  },
  {
   "cell_type": "code",
   "execution_count": null,
   "metadata": {},
   "outputs": [],
   "source": [
    "_ = plotting.plot_pwv_mag_effects(\n",
    "    pwv_vals, \n",
    "    z_vals, \n",
    "    tabulated_delta_mag, \n",
    "    tabulated_slope, \n",
    "    bands)\n"
   ]
  },
  {
   "cell_type": "markdown",
   "metadata": {},
   "source": [
    "---\n",
    "\n",
    "**Sanity Check:** We expect to see the following trends in the above plot:\n",
    "- The bluer bands should have minimal PWV impact. \n",
    "- The size of $\\Delta$m should be largest for the redder bands. \n",
    "- The slope in $\\Delta$m should be largest in the redder bands, and almost zero in the blewer bands.\n",
    "- $\\Delta$m should be zero for the fiducial PWV value.\n",
    "\n",
    "---"
   ]
  },
  {
   "cell_type": "markdown",
   "metadata": {},
   "source": [
    "## $\\Delta m$ With Fitting\n",
    "\n",
    "Instead of tabulating the simulating magnitude, we can instead consider the change in magnitude by simulating light-curves with PWV effects and then fitting a model without a PWV component."
   ]
  },
  {
   "cell_type": "code",
   "execution_count": null,
   "metadata": {
    "scrolled": true
   },
   "outputs": [],
   "source": [
    "# Realize simulations of light-curves\n",
    "observations = modeling.create_observations_table()\n",
    "light_curves = modeling.iter_lcs(observations, source, pwv_vals, z_vals)\n",
    "\n",
    "# Fit light curves\n",
    "vparams = ['x0', 'x1', 'c']\n",
    "fitted_mag, fitted_params = sn_magnitudes.fit_mag(\n",
    "        source, light_curves, vparams, pwv_vals, z_vals, bands)\n",
    "\n",
    "# Get fiducial mag (uncalibrated)\n",
    "fitted_fiducial_mag, fitted_fiducial_params = sn_magnitudes.fit_fiducial_mag(\n",
    "        source, observations, vparams, z_vals, bands, reference_pwv_config)\n"
   ]
  },
  {
   "cell_type": "markdown",
   "metadata": {},
   "source": [
    "Here we visualize the fitted, uncalibrated (i.e. without any stretch / color corrections) magnitudes."
   ]
  },
  {
   "cell_type": "code",
   "execution_count": null,
   "metadata": {},
   "outputs": [],
   "source": [
    "fig, axes = plotting.plot_magnitude(fitted_mag, pwv_vals, z_vals)\n",
    "fig.suptitle('Fitted Magnitude', y=1.05)\n"
   ]
  },
  {
   "cell_type": "markdown",
   "metadata": {},
   "source": [
    "---\n",
    "\n",
    "**Sanity Check:** The fitted light-curves are constructed to have a dense, uniform sampling. As a result, the fitted magnitude should thus look extremly similar to the tabulated magnitudes from earlier in the notebook.\n",
    "\n",
    "---"
   ]
  },
  {
   "cell_type": "markdown",
   "metadata": {},
   "source": [
    "We expect to see almost no difference between the tabulated, and fitted magnitudes in each band. However, we do expect to variation in the fitted stretch and color."
   ]
  },
  {
   "cell_type": "code",
   "execution_count": null,
   "metadata": {
    "scrolled": false
   },
   "outputs": [],
   "source": [
    "# Parse the fitted parameters for easier plotting\n",
    "model = sncosmo.Model('salt2-extended')\n",
    "params_dict = {\n",
    "    param: fitted_params[bands[0]][..., i] for \n",
    "    i, param in enumerate(model.param_names)\n",
    "}\n",
    "\n",
    "fig, axes = plt.subplots(2, 3, figsize=(12, 8))\n",
    "for axis, (param, param_vals) in zip(axes.flatten(), params_dict.items()):\n",
    "    plotting.multi_line_plot(z_vals, param_vals, pwv_vals, axis)\n",
    "    axis.set_xlabel('Redshift')\n",
    "    axis.set_ylabel(param)\n",
    "    \n",
    "correction_factor = sn_magnitudes.alpha * params_dict['x1'] - sn_magnitudes.beta * params_dict['c']\n",
    "plotting.multi_line_plot(z_vals, correction_factor, pwv_vals, axes[-1][-1])\n",
    "\n",
    "label = f'{sn_magnitudes.alpha} * $x_1$ - {sn_magnitudes.beta} * $c$'\n",
    "axes[-1][-1].set_ylabel(label)\n",
    "    \n",
    "plt.tight_layout()\n"
   ]
  },
  {
   "cell_type": "markdown",
   "metadata": {},
   "source": [
    "Like before we look at the impact of PWV on the fitted magnitude, but we also look at the cirrected magnitude."
   ]
  },
  {
   "cell_type": "code",
   "execution_count": null,
   "metadata": {},
   "outputs": [],
   "source": [
    "corrected_delta_mag, corrected_slope = sn_magnitudes.calc_delta_mag(\n",
    "    fitted_mag, fitted_fiducial_mag, reference_pwv_config)\n"
   ]
  },
  {
   "cell_type": "code",
   "execution_count": null,
   "metadata": {},
   "outputs": [],
   "source": [
    "fig, axes = plotting.plot_pwv_mag_effects(\n",
    "    pwv_vals, \n",
    "    z_vals, \n",
    "    corrected_delta_mag, \n",
    "    corrected_slope, \n",
    "    bands)\n"
   ]
  },
  {
   "cell_type": "markdown",
   "metadata": {},
   "source": [
    "Next we add in the alpha and beta parameters from the fit."
   ]
  },
  {
   "cell_type": "code",
   "execution_count": null,
   "metadata": {},
   "outputs": [],
   "source": [
    "# Determine calibrated magnitude from fits\n",
    "calibrated_mag = {}\n",
    "calibrated_fiducial_mag = {}\n",
    "for band in bands:\n",
    "    calibrated_mag[band] = sn_magnitudes.calibrate_mag(\n",
    "        source, fitted_mag[band], fitted_params[band])\n",
    "\n",
    "    # Get fiducial mag (calibrated)\n",
    "    calibrated_fiducial_mag[band] = sn_magnitudes.calibrate_mag(\n",
    "        source, fitted_fiducial_mag[band], fitted_fiducial_params[band])\n",
    "\n",
    "calibrated_delta_mag, calibrated_slope = sn_magnitudes.calc_delta_mag(\n",
    "        calibrated_mag, calibrated_fiducial_mag, reference_pwv_config)\n"
   ]
  },
  {
   "cell_type": "code",
   "execution_count": null,
   "metadata": {},
   "outputs": [],
   "source": [
    "_ = plotting.plot_pwv_mag_effects(\n",
    "    pwv_vals, \n",
    "    z_vals, \n",
    "    calibrated_delta_mag, \n",
    "    calibrated_slope, \n",
    "    bands)\n"
   ]
  },
  {
   "cell_type": "markdown",
   "metadata": {},
   "source": [
    "# Relative to reference Star"
   ]
  },
  {
   "cell_type": "markdown",
   "metadata": {},
   "source": [
    "In practice flux values are calibrated relative to a reference star. To understand how PWV effects SNe fluxes under these conditions, we normalize the SNe and Reference star flux to their respective fluxes through the fiducial atmosphere and take the difference (Normalized SNe - normalized reference star).\n",
    "\n",
    "Note that the value of $\\Delta m$ is we calculated before is equivilent to the apparent SN magnitude normalized to the flux through the fiducial atmosphere.\n",
    "\n",
    "$$\\Delta m = m(\\text{PWV}, z) - m(\\text{PWV}_f, z) = -2.5 log\\left(\\frac{f(\\text{PWV}, z)}{f(\\text{PWV}_f, z)}\\right)$$"
   ]
  },
  {
   "cell_type": "code",
   "execution_count": null,
   "metadata": {},
   "outputs": [],
   "source": [
    "def calibrate_to_reference(delta_mag, slope, pwv_vals, reference_type='G2'):\n",
    "    \n",
    "    assert delta_mag.keys() == slope.keys()\n",
    "    \n",
    "    delta_mag_ref = {}\n",
    "    slope_ref = {}\n",
    "    for band in delta_mag:\n",
    "        \n",
    "        delta_mag_ref[band] = reference.subtract_ref_star(\n",
    "            band, delta_mag[band], pwv_vals, reference_type)\n",
    "        \n",
    "        slope_ref[band] = reference.subtract_ref_star_slope(\n",
    "            band, slope[band], reference_pwv_config, reference_type)\n",
    "        \n",
    "    return delta_mag_ref, slope_ref\n",
    "        "
   ]
  },
  {
   "cell_type": "code",
   "execution_count": null,
   "metadata": {},
   "outputs": [],
   "source": [
    "# The y band values are not available for the reference star\n",
    "# we drop them here\n",
    "\n",
    "_tabulated_delta_mag = tabulated_delta_mag.copy()\n",
    "_tabulated_delta_mag.pop('decam_y')\n",
    "\n",
    "_tabulated_slope = tabulated_slope.copy()\n",
    "_tabulated_slope.pop('decam_y')\n",
    "\n",
    "tabulated_delta_mag_g2 = reference.subtract_ref_star_dict(_tabulated_delta_mag, pwv_vals)\n",
    "tabulated_slope_g2 = reference.subtract_ref_star_slope(_tabulated_slope, reference_pwv_config)\n"
   ]
  },
  {
   "cell_type": "code",
   "execution_count": null,
   "metadata": {},
   "outputs": [],
   "source": [
    "_ = plotting.plot_pwv_mag_effects(\n",
    "    pwv_vals, \n",
    "    z_vals, \n",
    "    tabulated_delta_mag_g2, \n",
    "    tabulated_slope_g2, \n",
    "    bands[:-1])\n"
   ]
  },
  {
   "cell_type": "code",
   "execution_count": null,
   "metadata": {},
   "outputs": [],
   "source": [
    "_corrected_delta_mag = corrected_delta_mag.copy()\n",
    "_corrected_delta_mag.pop('decam_y')\n",
    "\n",
    "_corrected_slope = corrected_slope.copy()\n",
    "_corrected_slope.pop('decam_y')\n",
    "\n",
    "corrected_delta_mag_g2 = reference.subtract_ref_star_dict(_corrected_delta_mag, pwv_vals)\n",
    "corrected_slope_g2 = reference.subtract_ref_star_slope(_corrected_slope, reference_pwv_config)\n"
   ]
  },
  {
   "cell_type": "code",
   "execution_count": null,
   "metadata": {},
   "outputs": [],
   "source": [
    "_ = plotting.plot_pwv_mag_effects(\n",
    "    pwv_vals, \n",
    "    z_vals, \n",
    "    corrected_delta_mag_g2,\n",
    "    corrected_slope_g2,\n",
    "    bands)\n"
   ]
  },
  {
   "cell_type": "markdown",
   "metadata": {},
   "source": [
    "Note that in the above plot we have subtracted off the reference star **after** fitting the light-curve. In principle we should have subtracted of the reference beforehand, as follows:\n"
   ]
  },
  {
   "cell_type": "code",
   "execution_count": null,
   "metadata": {},
   "outputs": [],
   "source": [
    "def iter_light_curve_iter_with_ref(source, pwv_arr, z_arr, reference_type='G2'):\n",
    "    \n",
    "    bands = ('decam_r', 'decam_i', 'decam_z')\n",
    "    \n",
    "    # Unfortunatly we cant specify a redshift dependent zero point\n",
    "    # in the observations table so we build an iterater over some lightcurves\n",
    "    # and recalibrate to a new zeropoint retroactively\n",
    "    initial_zeropoint = 25\n",
    "    observations = modeling.create_observations_table(bands=bands, zp=initial_zeropoint)\n",
    "    light_curves = modeling.iter_lcs(observations, source, pwv_arr, z_arr)\n",
    "    \n",
    "    # Determine what the reference mag should be\n",
    "    print('Fitting for fiducial mag', flush=True)\n",
    "    vparams = ['x0', 'x1', 'c']\n",
    "    fiducial_mag_dict, _ = sn_magnitudes.fit_fiducial_mag(\n",
    "        source, observations, vparams, z_arr, bands, reference_pwv_config)\n",
    "    \n",
    "    for lc in light_curves:\n",
    "        z = lc.meta['z']\n",
    "        for band, fiducial_magnitudes in fiducial_mag_dict.items():\n",
    "            _, fiducial_mag, _  = fiducial_magnitudes\n",
    "            zp_for_z = fiducial_mag[np.where(z_arr == z)[0]]\n",
    "            \n",
    "            indices = lc['band'] == band\n",
    "            lc['flux'][indices] *= 10 ** ((zp_for_z - initial_zeropoint) / 2.5)\n",
    "            lc['fluxerr'][indices] *= 10 ** ((zp_for_z - initial_zeropoint) / 2.5)\n",
    "            lc['zp'][indices] = zp_for_z\n",
    "            \n",
    "        yield lc\n",
    "            \n",
    "    "
   ]
  },
  {
   "cell_type": "code",
   "execution_count": null,
   "metadata": {
    "scrolled": true
   },
   "outputs": [],
   "source": [
    "light_curves_with_ref = iter_light_curve_iter_with_ref(source, pwv_vals, z_vals)\n",
    "ref_first_fitted_mag, ref_first_fitted_params = sn_magnitudes.fit_mag(\n",
    "        source, light_curves_with_ref, vparams, pwv_vals, z_vals, bands)\n"
   ]
  },
  {
   "cell_type": "code",
   "execution_count": null,
   "metadata": {},
   "outputs": [],
   "source": [
    "# Determine calibrated magnitude from fits\n",
    "ref_first_calibrated_mag = {}\n",
    "ref_first_calibrated_fiducial_mag = {}\n",
    "for band in bands:\n",
    "    ref_first_calibrated_mag[band] = sn_magnitudes.calibrate_mag(\n",
    "        source, ref_first_fitted_mag[band], ref_first_fitted_params[band])\n"
   ]
  },
  {
   "cell_type": "markdown",
   "metadata": {},
   "source": [
    "## Delta $\\mu$\n"
   ]
  },
  {
   "cell_type": "code",
   "execution_count": null,
   "metadata": {},
   "outputs": [],
   "source": [
    "# We use cosmological parameters from Betoule 14\n",
    "betoule_cosmo = FlatLambdaCDM(H0=sn_magnitudes.H0, Om0=sn_magnitudes.omega_m)\n",
    "betoule_cosmo\n"
   ]
  },
  {
   "cell_type": "code",
   "execution_count": null,
   "metadata": {},
   "outputs": [],
   "source": [
    "# Nore for the following line that params are band independent\n",
    "fitted_mu = sn_magnitudes.calc_mu_for_params(source, fitted_params['decam_r'])\n",
    "corrected_fitted_mu = fitted_mu + correction_factor\n"
   ]
  },
  {
   "cell_type": "code",
   "execution_count": null,
   "metadata": {},
   "outputs": [],
   "source": [
    "def plot_mu(mu, cosmo, pwv_arr, z_arr, xval='redshift'):\n",
    "    \n",
    "    cosmo_mu = cosmo.distmod(z_arr).value\n",
    "    delta_mu = mu - cosmo_mu\n",
    "    corrected_delta_mu = delta_mu - cosmo_mu\n",
    "\n",
    "    fig, axes = plt.subplots(1, 3, figsize=(9, 3))\n",
    "    mu_ax, delta_mu_ax, relative_mu_ax = axes\n",
    "\n",
    "    plotting.multi_line_plot(z_arr, mu, pwv_arr, mu_ax)\n",
    "    mu_ax.plot(z_arr, cosmo_mu, linestyle='--', color='k', label='Betoule 14')\n",
    "    mu_ax.legend(framealpha=1)\n",
    "\n",
    "    plotting.multi_line_plot(z_arr, delta_mu, pwv_arr, delta_mu_ax)\n",
    "    delta_mu_ax.axhline(0, linestyle='--', color='k', label='Betoule 14')\n",
    "    delta_mu_ax.legend(framealpha=1)\n",
    "\n",
    "    plotting.multi_line_plot(z_arr, mu - mu[4], pwv_arr, relative_mu_ax, label='{:g} mm')\n",
    "    relative_mu_ax.axhline(0, linestyle='--', color='k', label=f'PWV={pwv_arr[4]}')\n",
    "    relative_mu_ax.legend(framealpha=1, bbox_to_anchor=(1, 1.1))\n",
    "\n",
    "    mu_ax.set_ylabel(r'$\\mu$', fontsize=12)\n",
    "    delta_mu_ax.set_ylabel(r'$\\mu - \\mu_{cosmo}$', fontsize=12)\n",
    "    relative_mu_ax.set_ylabel(r'$\\mu - \\mu_{pwv_f}$', fontsize=12)\n",
    "    for ax in axes:\n",
    "        ax.set_xlabel('Redshift', fontsize=12)\n",
    "\n",
    "    plt.tight_layout()\n"
   ]
  },
  {
   "cell_type": "code",
   "execution_count": null,
   "metadata": {},
   "outputs": [],
   "source": [
    "plot_mu(fitted_mu, betoule_cosmo, pwv_vals, z_vals)\n"
   ]
  },
  {
   "cell_type": "code",
   "execution_count": null,
   "metadata": {},
   "outputs": [],
   "source": [
    "plot_mu(corrected_fitted_mu, betoule_cosmo, pwv_vals, z_vals)\n"
   ]
  },
  {
   "cell_type": "code",
   "execution_count": null,
   "metadata": {},
   "outputs": [],
   "source": []
  }
 ],
 "metadata": {
  "kernelspec": {
   "display_name": "Python [conda env:mzls-pwv]",
   "language": "python",
   "name": "conda-env-mzls-pwv-py"
  },
  "language_info": {
   "codemirror_mode": {
    "name": "ipython",
    "version": 3
   },
   "file_extension": ".py",
   "mimetype": "text/x-python",
   "name": "python",
   "nbconvert_exporter": "python",
   "pygments_lexer": "ipython3",
   "version": "3.7.6"
  }
 },
 "nbformat": 4,
 "nbformat_minor": 4
}
