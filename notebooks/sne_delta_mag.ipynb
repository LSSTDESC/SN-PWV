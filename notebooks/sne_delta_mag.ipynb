{
 "cells": [
  {
   "cell_type": "markdown",
   "metadata": {},
   "source": [
    "# PWV effects on SN Magnitude\n",
    "\n",
    "This notebook demonstrates the effects of PWV absorption on the apparent magnitude of SNe.\n"
   ]
  },
  {
   "cell_type": "code",
   "execution_count": null,
   "metadata": {},
   "outputs": [],
   "source": [
    "import sys\n",
    "sys.path.insert(0, '../')\n",
    "\n",
    "from pathlib import Path\n",
    "\n",
    "import numpy as np\n",
    "import sncosmo\n",
    "from astropy.cosmology import FlatLambdaCDM\n",
    "from matplotlib import pyplot as plt\n",
    "from sn_analysis import modeling, sn_magnitudes, reference, plotting\n",
    "from sn_analysis.filters import register_lsst_filters\n"
   ]
  },
  {
   "cell_type": "code",
   "execution_count": null,
   "metadata": {},
   "outputs": [],
   "source": [
    "fig_dir = Path('.') / 'figs' / 'delta_mag'\n",
    "fig_dir.mkdir(exist_ok=True, parents=True)\n",
    "register_lsst_filters(force=True)\n"
   ]
  },
  {
   "cell_type": "code",
   "execution_count": null,
   "metadata": {},
   "outputs": [],
   "source": [
    "source = 'salt2-extended'\n",
    "pwv_vals = np.arange(0, 11)\n",
    "z_vals = np.arange(.01, 1.05, .05)\n",
    "\n",
    "# We make sure to use bands without an Atm. component\n",
    "bands = [f'lsst_hardware_{b}' for b in 'grizy']\n"
   ]
  },
  {
   "cell_type": "markdown",
   "metadata": {},
   "source": [
    "## Spectral Template\n",
    "\n",
    "The effect of PWV absorption is fundementally dependent on the interplay between the SED of the effected object and the PWV transmission function. For this work we consider an extend version of the Salt2 spectral template. We visualize the template as a reference. For easier visualization, the figure below includes dialation effects but does not include the change in flux density due to distance.\n"
   ]
  },
  {
   "cell_type": "code",
   "execution_count": null,
   "metadata": {},
   "outputs": [],
   "source": [
    "_ = plotting.plot_salt2_template(np.arange(4000, 10000), [0, .5, 1], pwv=4)\n",
    "plt.savefig(fig_dir / 'spectral_template.pdf', bbox_inches='tight')\n"
   ]
  },
  {
   "cell_type": "markdown",
   "metadata": {},
   "source": [
    "## Apparent magnitude\n",
    "\n",
    "We start by considering the direct impact of PWV absorbtion on simulated SN Ia magnitudes. Apparent magnitudes are simulated for multiple bands, redshifts, and PWV concentrations. \n"
   ]
  },
  {
   "cell_type": "code",
   "execution_count": null,
   "metadata": {},
   "outputs": [],
   "source": [
    "tabulated_mag = sn_magnitudes.tabulate_mag(source, pwv_vals, z_vals, bands)\n"
   ]
  },
  {
   "cell_type": "code",
   "execution_count": null,
   "metadata": {},
   "outputs": [],
   "source": [
    "fig, axes = plotting.plot_magnitude(tabulated_mag, pwv_vals, z_vals)\n",
    "_ = fig.suptitle('Simulated magnitudes for PWV and Redshift', y=1.05)\n",
    "plt.savefig(fig_dir / 'tabulated_magnitudes.pdf', bbox_inches='tight')\n"
   ]
  },
  {
   "cell_type": "markdown",
   "metadata": {},
   "source": [
    "To better understand the impact of PWV, we estimate the change in apparent magnitude due to PWV. Although we could measure this change relative to PWV=0, a more physically motivated approach is to use a fiducial atmosphere with a non-zero PWV component:\n",
    "\n",
    "$$\\Delta m = m(\\text{PWV}, z) - m(\\text{PWV}_f, z)$$\n",
    "\n",
    "We also determine the slope in the apparent magnitude as an estimate for how sensitive our simulated observations are to PWV fluxtuations:\n",
    "\n",
    "$$\\frac{\\Delta m}{\\Delta \\text{PWV}}(z) = \\frac{m(\\text{PWV}_2, z) - m(\\text{PWV}_1, z)}{\\text{PWV}_2 - \\text{PWV}_1}$$\n",
    "\n",
    "Here PWV$_1$ and PWV$_2$ are chosen to be equidistant to PWV$_f$. We take note of the chosen PWV reference values in the following cell:\n"
   ]
  },
  {
   "cell_type": "code",
   "execution_count": null,
   "metadata": {},
   "outputs": [],
   "source": [
    "reference_pwv_config = sn_magnitudes.get_config_pwv_vals()\n",
    "print(reference_pwv_config)\n"
   ]
  },
  {
   "cell_type": "markdown",
   "metadata": {},
   "source": [
    "We tabulate values for $\\Delta m$ and $\\frac{\\Delta m}{\\Delta \\text{PWV}}(z)$. "
   ]
  },
  {
   "cell_type": "code",
   "execution_count": null,
   "metadata": {},
   "outputs": [],
   "source": [
    "tabulated_fiducial_mag = sn_magnitudes.tabulate_fiducial_mag(\n",
    "        source, z_vals, bands, reference_pwv_config)\n",
    "\n",
    "tabulated_delta_mag, tabulated_slope = sn_magnitudes.calc_delta_mag(\n",
    "    tabulated_mag, tabulated_fiducial_mag, reference_pwv_config)\n"
   ]
  },
  {
   "cell_type": "code",
   "execution_count": null,
   "metadata": {},
   "outputs": [],
   "source": [
    "fig, axes = plotting.plot_pwv_mag_effects(\n",
    "    pwv_vals, \n",
    "    z_vals, \n",
    "    tabulated_delta_mag, \n",
    "    tabulated_slope, \n",
    "    bands)\n",
    "\n",
    "_ = fig.suptitle('PWV Impact on Simulated magnitudes (Relative to Fiducial Atm.)', y=1.05)\n",
    "plt.savefig(fig_dir / 'tabulated_pwv_effects.pdf', bbox_inches='tight')\n"
   ]
  },
  {
   "cell_type": "markdown",
   "metadata": {},
   "source": [
    "---\n",
    "\n",
    "**Sanity Check:** We expect to see the following trends in the above plot:\n",
    "- The bluer bands should have minimal PWV impact. \n",
    "- The size of $\\Delta$m should be largest for the redder bands. \n",
    "- The slope in $\\Delta$m should be almost zero in the bluer bands.\n",
    "- $\\Delta$m should be zero for the fiducial PWV value.\n",
    "- The general shape of the $\\Delta m$ vs PWV curves should change as a function of different features passing through each band. This means the shape of the curves should be different in each band.\n",
    "\n",
    "---"
   ]
  },
  {
   "cell_type": "markdown",
   "metadata": {},
   "source": [
    "## $\\Delta m$ With Fitting\n",
    "\n",
    "Instead of tabulating the simulating magnitude, we can instead consider the change in magnitude by simulating light-curves with PWV effects and then fitting a model without a PWV component. For simplicity we use a densly sampled, uniform cadence."
   ]
  },
  {
   "cell_type": "code",
   "execution_count": null,
   "metadata": {
    "scrolled": false
   },
   "outputs": [],
   "source": [
    "cadence = modeling.create_observations_table(bands=bands)\n",
    "cadence.remove_columns(['gain', 'skynoise'])  # We wont be using the gain feature in sncosmo\n",
    "cadence\n"
   ]
  },
  {
   "cell_type": "code",
   "execution_count": null,
   "metadata": {
    "scrolled": false
   },
   "outputs": [],
   "source": [
    "# Iterator over simulated light-curves\n",
    "light_curves = modeling.iter_lcs(cadence, source, pwv_vals, z_vals)\n",
    "\n",
    "# Fit light curves\n",
    "vparams = ['x0', 'x1', 'c']\n",
    "fitted_mag, fitted_params = sn_magnitudes.fit_mag(\n",
    "        source, light_curves, vparams, pwv_vals, z_vals, bands)\n",
    "\n",
    "# Get fiducial mag\n",
    "fitted_fiducial_mag, fitted_fiducial_params = sn_magnitudes.fit_fiducial_mag(\n",
    "        source, cadence, vparams, z_vals, bands, reference_pwv_config)\n"
   ]
  },
  {
   "cell_type": "markdown",
   "metadata": {},
   "source": [
    "Here we visualize the fitted, uncorrected (i.e. without any stretch / color correction) magnitudes."
   ]
  },
  {
   "cell_type": "code",
   "execution_count": null,
   "metadata": {},
   "outputs": [],
   "source": [
    "fig, axes = plotting.plot_magnitude(fitted_mag, pwv_vals, z_vals)\n",
    "_ = fig.suptitle('Fitted Magnitude (Uncorrected)', y=1.05)\n",
    "plt.savefig(fig_dir / 'fitted_magnitudes.pdf', bbox_inches='tight')\n"
   ]
  },
  {
   "cell_type": "markdown",
   "metadata": {},
   "source": [
    "---\n",
    "\n",
    "**Sanity Check:** The fitted light-curves are constructed to have a dense, uniform sampling. As a result, the fitted magnitude should look extremly similar to the tabulated magnitudes from earlier in the notebook.\n",
    "\n",
    "---"
   ]
  },
  {
   "cell_type": "markdown",
   "metadata": {},
   "source": [
    "We expect to see minimal differences between the tabulated, and fitted magnitudes in each band. However, we do expect to variation in the fitted stretch and color."
   ]
  },
  {
   "cell_type": "code",
   "execution_count": null,
   "metadata": {
    "scrolled": false
   },
   "outputs": [],
   "source": [
    "fig, axes = plotting.plot_fitted_params(fitted_params, pwv_vals, z_vals, bands)\n",
    "_ = fig.suptitle('Fitted Parameters', y=1.05)\n",
    "plt.savefig(fig_dir / 'fitted_parameters.pdf', bbox_inches='tight')\n"
   ]
  },
  {
   "cell_type": "markdown",
   "metadata": {},
   "source": [
    "We look at the impact of PWV on the fitted magnitude."
   ]
  },
  {
   "cell_type": "code",
   "execution_count": null,
   "metadata": {},
   "outputs": [],
   "source": [
    "corrected_delta_mag, corrected_slope = sn_magnitudes.calc_delta_mag(\n",
    "    fitted_mag, fitted_fiducial_mag, reference_pwv_config)\n"
   ]
  },
  {
   "cell_type": "code",
   "execution_count": null,
   "metadata": {},
   "outputs": [],
   "source": [
    "fig, axes = plotting.plot_pwv_mag_effects(\n",
    "    pwv_vals, \n",
    "    z_vals, \n",
    "    corrected_delta_mag, \n",
    "    corrected_slope, \n",
    "    bands)\n",
    "\n",
    "_ = fig.suptitle('PWV Impact on Fitted Magnitudes (Relative to Fiducial Atm.)', y=1.05)\n",
    "plt.savefig(fig_dir / 'fitted_pwv_effects.pdf', bbox_inches='tight')\n"
   ]
  },
  {
   "cell_type": "markdown",
   "metadata": {},
   "source": [
    "Next we add in the alpha and beta parameters from the fit."
   ]
  },
  {
   "cell_type": "code",
   "execution_count": null,
   "metadata": {},
   "outputs": [],
   "source": [
    "# Determine corrected magnitude from fits\n",
    "corrected_mag = {}\n",
    "corrected_fiducial_mag = {}\n",
    "for band in bands:\n",
    "    corrected_mag[band] = sn_magnitudes.correct_mag(\n",
    "        source, fitted_mag[band], fitted_params[band])\n",
    "\n",
    "    # Get fiducial mag (calibrated)\n",
    "    corrected_fiducial_mag[band] = sn_magnitudes.correct_mag(\n",
    "        source, fitted_fiducial_mag[band], fitted_fiducial_params[band])\n"
   ]
  },
  {
   "cell_type": "code",
   "execution_count": null,
   "metadata": {},
   "outputs": [],
   "source": [
    "corrected_delta_mag, corrected_slope = sn_magnitudes.calc_delta_mag(\n",
    "        corrected_mag, corrected_fiducial_mag, reference_pwv_config)\n"
   ]
  },
  {
   "cell_type": "code",
   "execution_count": null,
   "metadata": {},
   "outputs": [],
   "source": [
    "fig, axes = plotting.plot_pwv_mag_effects(\n",
    "    pwv_vals, \n",
    "    z_vals, \n",
    "    corrected_delta_mag, \n",
    "    corrected_slope, \n",
    "    bands)\n",
    "\n",
    "_ = fig.suptitle('PWV Impact on Calibrated Magnitudes (Relative to Fiducial Atm.)', y=1.05)\n",
    "plt.savefig(fig_dir / 'corr_pwv_effects.pdf', bbox_inches='tight')\n"
   ]
  },
  {
   "cell_type": "markdown",
   "metadata": {},
   "source": [
    "---\n",
    "\n",
    "**Sanity Check:** Unlike some of the previous plots we have made, we expect the overall shape of the the $\\Delta m$ vs $z$ curves to be similar across bands. Since we are considereing fitted magnitudes in the above plot, the presence of PWV impacts the fitted model parameters, and then the model enforces cross-band uniformity when we evaluate the synthetic photometry.\n",
    "\n",
    "---"
   ]
  },
  {
   "cell_type": "markdown",
   "metadata": {},
   "source": [
    "# Relative to a Reference Star"
   ]
  },
  {
   "cell_type": "markdown",
   "metadata": {},
   "source": [
    "In practice flux values are calibrated relative to a reference star. To understand how PWV effects SNe fluxes during this process, we normalize the reference star flux to it's respective fluxes through PWV=0 and take the difference (SNe flux / normalized reference star flux).\n"
   ]
  },
  {
   "cell_type": "code",
   "execution_count": null,
   "metadata": {},
   "outputs": [],
   "source": [
    "def iter_light_curve_iter_with_ref(source, pwv_arr, z_arr, reference_type='G2'):\n",
    "    \n",
    "    observations = modeling.create_observations_table(bands=bands)\n",
    "    light_curves = modeling.iter_lcs(observations, source, pwv_arr, z_arr)\n",
    "    for lc in light_curves:\n",
    "        pwv = lc.meta['pwv']\n",
    "        yield reference.divide_ref_from_lc(lc, pwv=pwv, reference_type=reference_type)\n",
    "    "
   ]
  },
  {
   "cell_type": "code",
   "execution_count": null,
   "metadata": {
    "scrolled": false
   },
   "outputs": [],
   "source": [
    "vparams = ['x0', 'x1', 'c']\n",
    "light_curves_with_ref = iter_light_curve_iter_with_ref(source, pwv_vals, z_vals)\n",
    "fitted_mag_with_ref, fitted_params_with_ref = sn_magnitudes.fit_mag(\n",
    "        source, light_curves_with_ref, vparams, pwv_vals, z_vals, bands, bounds={'t0': (-1, 1)})\n"
   ]
  },
  {
   "cell_type": "code",
   "execution_count": null,
   "metadata": {},
   "outputs": [],
   "source": [
    "fig, axes = plotting.plot_magnitude(fitted_mag_with_ref, pwv_vals, z_vals)\n",
    "_ = fig.suptitle('Magnitude from fit to SN - Ref', y=1.05)\n"
   ]
  },
  {
   "cell_type": "code",
   "execution_count": null,
   "metadata": {},
   "outputs": [],
   "source": [
    "fig, axes = plotting.plot_fitted_params(fitted_params_with_ref, pwv_vals, z_vals, bands)\n",
    "_ = fig.suptitle('Parameters from fit to SN - Ref', y=1.05)\n"
   ]
  },
  {
   "cell_type": "code",
   "execution_count": null,
   "metadata": {},
   "outputs": [],
   "source": [
    "# Determine corrected magnitude from fits\n",
    "corrected_mag_with_ref = {}\n",
    "for band in bands:\n",
    "    corrected_mag_with_ref[band] = sn_magnitudes.correct_mag(\n",
    "        source, fitted_mag_with_ref[band], fitted_params_with_ref[band])\n"
   ]
  },
  {
   "cell_type": "code",
   "execution_count": null,
   "metadata": {},
   "outputs": [],
   "source": [
    "fig, axes = plotting.plot_magnitude(corrected_mag_with_ref, pwv_vals, z_vals)\n",
    "_ = fig.suptitle('Corrected Magnitude from fit to SN - Ref', y=1.05)\n"
   ]
  },
  {
   "cell_type": "code",
   "execution_count": null,
   "metadata": {},
   "outputs": [],
   "source": [
    "_pwv_list = list(pwv_vals)\n",
    "reference_idx = _pwv_list.index(reference_pwv_config['reference_pwv'])\n",
    "slope_start_idx = _pwv_list.index(reference_pwv_config['slope_start'])\n",
    "slope_end_idx = _pwv_list.index(reference_pwv_config['slope_end'])\n",
    "\n",
    "corrected_fiducial_mag_with_ref = dict()\n",
    "for band in bands:\n",
    "    _mag_arr = corrected_mag_with_ref[band]\n",
    "    _ref_mag = _mag_arr[reference_idx]\n",
    "    _start_mag = _mag_arr[slope_start_idx]\n",
    "    _end_mag = _mag_arr[slope_end_idx]\n",
    "    \n",
    "    corrected_fiducial_mag_with_ref[band] = [_start_mag, _ref_mag, _end_mag]  \n",
    "    "
   ]
  },
  {
   "cell_type": "code",
   "execution_count": null,
   "metadata": {},
   "outputs": [],
   "source": [
    "corrected_delta_mag_with_ref, corrected_slope_with_ref = sn_magnitudes.calc_delta_mag(\n",
    "        corrected_mag_with_ref, corrected_fiducial_mag_with_ref, reference_pwv_config)\n",
    "\n",
    "fig, axes = plotting.plot_pwv_mag_effects(\n",
    "    pwv_vals, \n",
    "    z_vals, \n",
    "    corrected_delta_mag_with_ref, \n",
    "    corrected_slope_with_ref, \n",
    "    bands)\n",
    "\n",
    "fig.suptitle('PWV Impact on Corrected Magnitude from fit to SN - Ref', y=1.05)\n",
    "plt.savefig(fig_dir / 'corr_pwv_effects_with_ref_star.pdf', bbox_inches='tight')\n"
   ]
  },
  {
   "cell_type": "markdown",
   "metadata": {},
   "source": [
    "## $\\Delta \\mu$\n",
    "\n",
    "Here we consider the impact of PWV on $\\mu$ using fits to SNe flux after calibration to the reference star. We note that there is a disagreement between the distance module calculated by an astropy Cosmology object, and by an SNCosmo model that has been calibrated using that same cosmology. For consistancy, we exclusively use SNCosmo values of $\\mu$."
   ]
  },
  {
   "cell_type": "markdown",
   "metadata": {},
   "source": [
    "### Results without using a reference star"
   ]
  },
  {
   "cell_type": "code",
   "execution_count": null,
   "metadata": {},
   "outputs": [],
   "source": [
    "# The params are band independent so we use the r-band values\n",
    "calib_factor = sn_magnitudes.calc_calibration_factor_for_params(\n",
    "    source, fitted_params['lsst_hardware_r'])\n",
    "\n",
    "fitted_mu = sn_magnitudes.calc_mu_for_params(\n",
    "    source, fitted_params['lsst_hardware_r'])\n"
   ]
  },
  {
   "cell_type": "code",
   "execution_count": null,
   "metadata": {},
   "outputs": [],
   "source": [
    "# Account for (what I think is) a numerical error between astropy and sncosmo\n",
    "numerical_error_offset = fitted_mu[0] - modeling.betoule_cosmo.distmod(z_vals).value\n",
    "\n",
    "plotting.plot_delta_mu(source, fitted_mu - numerical_error_offset, pwv_vals, z_vals)\n"
   ]
  },
  {
   "cell_type": "code",
   "execution_count": null,
   "metadata": {},
   "outputs": [],
   "source": [
    "plotting.plot_delta_mu(source, fitted_mu + calib_factor - numerical_error_offset, pwv_vals, z_vals)\n",
    "plt.savefig(fig_dir / 'mu_pwv_effects.pdf', bbox_inches='tight')\n"
   ]
  },
  {
   "cell_type": "markdown",
   "metadata": {},
   "source": [
    "### Results with a reference star"
   ]
  },
  {
   "cell_type": "code",
   "execution_count": null,
   "metadata": {},
   "outputs": [],
   "source": [
    "calib_factor_with_ref = sn_magnitudes.calc_calibration_factor_for_params(\n",
    "    source, fitted_params_with_ref['lsst_hardware_r'])\n",
    "\n",
    "fitted_mu_with_ref = sn_magnitudes.calc_mu_for_params(\n",
    "    source, fitted_params_with_ref['lsst_hardware_r'])\n"
   ]
  },
  {
   "cell_type": "code",
   "execution_count": null,
   "metadata": {},
   "outputs": [],
   "source": [
    "numerical_error_offset_ref = fitted_mu_with_ref[0] - modeling.betoule_cosmo.distmod(z_vals).value\n",
    "plotting.plot_delta_mu(source, fitted_mu_with_ref - numerical_error_offset_ref, pwv_vals, z_vals)\n"
   ]
  },
  {
   "cell_type": "code",
   "execution_count": null,
   "metadata": {},
   "outputs": [],
   "source": [
    "plotting.plot_delta_mu(source, fitted_mu_with_ref + calib_factor_with_ref - numerical_error_offset_ref, pwv_vals, z_vals)\n",
    "plt.savefig(fig_dir / 'mu_pwv_effects_with_ref.pdf', bbox_inches='tight')\n"
   ]
  },
  {
   "cell_type": "markdown",
   "metadata": {},
   "source": [
    "## $\\Delta$ Color"
   ]
  },
  {
   "cell_type": "code",
   "execution_count": null,
   "metadata": {},
   "outputs": [],
   "source": [
    "colors = list(zip(bands[:-1], bands[1:]))"
   ]
  },
  {
   "cell_type": "code",
   "execution_count": null,
   "metadata": {},
   "outputs": [],
   "source": [
    "plotting.plot_delta_colors(pwv_vals, z_vals, tabulated_mag, colors)\n",
    "plt.savefig(fig_dir / 'delta_tabulated_corrected_color.pdf', bbox_inches='tight')\n"
   ]
  },
  {
   "cell_type": "code",
   "execution_count": null,
   "metadata": {},
   "outputs": [],
   "source": [
    "plotting.plot_delta_colors(pwv_vals, z_vals, corrected_mag, colors)\n",
    "plt.savefig(fig_dir / 'delta_fitted_corrected_color.pdf', bbox_inches='tight')\n"
   ]
  },
  {
   "cell_type": "code",
   "execution_count": null,
   "metadata": {},
   "outputs": [],
   "source": [
    "plotting.plot_delta_colors(pwv_vals, z_vals, corrected_mag_with_ref, colors)\n",
    "plt.savefig(fig_dir / 'delta_fitted_color_with_ref.pdf', bbox_inches='tight')\n"
   ]
  },
  {
   "cell_type": "code",
   "execution_count": null,
   "metadata": {},
   "outputs": [],
   "source": []
  }
 ],
 "metadata": {
  "kernelspec": {
   "display_name": "Python 3",
   "language": "python",
   "name": "python3"
  },
  "language_info": {
   "codemirror_mode": {
    "name": "ipython",
    "version": 3
   },
   "file_extension": ".py",
   "mimetype": "text/x-python",
   "name": "python",
   "nbconvert_exporter": "python",
   "pygments_lexer": "ipython3",
   "version": "3.7.7"
  }
 },
 "nbformat": 4,
 "nbformat_minor": 4
}
