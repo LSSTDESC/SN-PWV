{
 "cells": [
  {
   "cell_type": "markdown",
   "metadata": {},
   "source": [
    "# Mu Numerical Residuals\n",
    "\n",
    "This notebook demonstrates residuals between $\\mu$ values calculated by `astopy` and `sncosmo`."
   ]
  },
  {
   "cell_type": "code",
   "execution_count": null,
   "metadata": {},
   "outputs": [],
   "source": [
    "from pathlib import Path\n",
    "\n",
    "import numpy as np\n",
    "import sncosmo\n",
    "from astropy.cosmology import WMAP9\n",
    "from matplotlib import pyplot as plt\n",
    "\n",
    "fig_dir = Path('.') / 'figs'\n",
    "fig_dir.mkdir(exist_ok=True, parents=True)\n"
   ]
  },
  {
   "cell_type": "code",
   "execution_count": null,
   "metadata": {},
   "outputs": [],
   "source": [
    "model = sncosmo.Model('salt2-extended')\n",
    "b_band = sncosmo.get_bandpass('standard::b')\n",
    "z_vals = np.arange(.01, 1.1, .01)\n",
    "peak_mag = -19\n",
    "\n",
    "apparent_mag = []\n",
    "for z in z_vals:\n",
    "    model.set(z=z)\n",
    "    model.set_source_peakabsmag(peak_mag, b_band, 'AB')\n",
    "\n",
    "    rest_band = b_band.shifted(1 + z)\n",
    "    mag = model.bandmag(rest_band, 'ab', 0) \n",
    "    \n",
    "    apparent_mag.append(mag)\n",
    "\n",
    "mu = apparent_mag + 2.5 * np.log10(1 + z_vals) - peak_mag\n"
   ]
  },
  {
   "cell_type": "code",
   "execution_count": null,
   "metadata": {},
   "outputs": [],
   "source": [
    "cosmo_mu = WMAP9.distmod(z_vals)\n",
    "plt.plot(z_vals, mu - cosmo_mu.value, label='WMAP9')\n",
    "\n",
    "plt.ylabel(r'$\\mu$ - WMAP9')\n",
    "plt.xlabel('z')\n",
    "plt.legend()\n",
    "\n",
    "plt.savefig(fig_dir / 'mu_residuals.pdf')\n"
   ]
  },
  {
   "cell_type": "code",
   "execution_count": null,
   "metadata": {},
   "outputs": [],
   "source": []
  }
 ],
 "metadata": {
  "kernelspec": {
   "display_name": "Python [conda env:sn-pwv] *",
   "language": "python",
   "name": "conda-env-sn-pwv-py"
  },
  "language_info": {
   "codemirror_mode": {
    "name": "ipython",
    "version": 3
   },
   "file_extension": ".py",
   "mimetype": "text/x-python",
   "name": "python",
   "nbconvert_exporter": "python",
   "pygments_lexer": "ipython3",
   "version": "3.7.7"
  }
 },
 "nbformat": 4,
 "nbformat_minor": 4
}
