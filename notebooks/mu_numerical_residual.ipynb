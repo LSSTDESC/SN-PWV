{
 "cells": [
  {
   "cell_type": "markdown",
   "metadata": {},
   "source": [
    "# Mu Numerical Residuals\n",
    "\n",
    "This notebook demonstrates residuals between $\\mu$ values calculated by `astopy` and `sncosmo`."
   ]
  },
  {
   "cell_type": "code",
   "execution_count": null,
   "metadata": {},
   "outputs": [],
   "source": [
    "from pathlib import Path\n",
    "\n",
    "import numpy as np\n",
    "import sncosmo\n",
    "from astropy.cosmology import WMAP9, FlatLambdaCDM\n",
    "from matplotlib import pyplot as plt\n",
    "\n",
    "from scipy.optimize import minimize \n"
   ]
  },
  {
   "cell_type": "code",
   "execution_count": null,
   "metadata": {},
   "outputs": [],
   "source": [
    "def apparent_mag_for_model(model):\n",
    "    \"\"\"Calculate the distance modulus of a model\n",
    "\n",
    "    Args:\n",
    "        model (Model): An sncosmo model\n",
    "\n",
    "    Returns:\n",
    "        mu = m_B - M_B\n",
    "    \"\"\"\n",
    "\n",
    "    dilation_factor = 1 + model['z']\n",
    "    time_dilation_mag_offset = - 2.5 * np.log10(dilation_factor)\n",
    "\n",
    "    b_band = sncosmo.get_bandpass('standard::b')\n",
    "    rest_band = b_band.shifted(dilation_factor)\n",
    "\n",
    "    apparent_mag = model.bandmag(rest_band, 'ab', 0) - time_dilation_mag_offset\n",
    "    return apparent_mag\n"
   ]
  },
  {
   "cell_type": "markdown",
   "metadata": {},
   "source": [
    "To demonstrate the effect, we set the peak absolute brightness of a model, calculate the apparent magnitude for that model, and determine $\\mu$ as the difference of those two values. "
   ]
  },
  {
   "cell_type": "code",
   "execution_count": null,
   "metadata": {},
   "outputs": [],
   "source": [
    "model = sncosmo.Model('salt2-extended')\n",
    "z_vals = np.arange(.01, 1.1, .01)\n",
    "abs_mag = -19.05\n",
    "\n",
    "apparent_mag = []\n",
    "absolute_mag = []\n",
    "for z in z_vals:\n",
    "    model.set(z=z)\n",
    "    model.set_source_peakabsmag(abs_mag, 'standard::b', 'AB')\n",
    "    apparent_mag.append(apparent_mag_for_model(model))\n",
    "    \n",
    "apparent_mag = np.array(apparent_mag)\n",
    "mu = apparent_mag - abs_mag\n"
   ]
  },
  {
   "cell_type": "code",
   "execution_count": null,
   "metadata": {},
   "outputs": [],
   "source": [
    "plt.plot(z_vals, mu - WMAP9.distmod(z_vals).value)\n",
    "plt.xlabel('z', fontsize=12)\n",
    "plt.ylabel(r'$\\Delta\\mu$ (sncosmo - WMAP9)', fontsize=12)\n"
   ]
  },
  {
   "cell_type": "markdown",
   "metadata": {},
   "source": [
    "One potential source is the interpolation used by `sncosmo` when setting the absolute magnitude of the model. We see below that this isn't the case."
   ]
  },
  {
   "cell_type": "code",
   "execution_count": null,
   "metadata": {},
   "outputs": [],
   "source": [
    "def calc_abs_mag_offset(\n",
    "    cosmo, z, abs_mb=-19.05, band='standard::b', magsys='AB'):\n",
    "    \n",
    "    source = 'salt2-extended'\n",
    "    model = sncosmo.Model(source)\n",
    "    model.set(z=z)\n",
    "    model.set_source_peakabsmag(abs_mb, band, magsys, cosmo=cosmo)\n",
    "    \n",
    "    return abs_mb - model.source_peakabsmag(band, 'AB', cosmo=cosmo)\n"
   ]
  },
  {
   "cell_type": "code",
   "execution_count": null,
   "metadata": {},
   "outputs": [],
   "source": [
    "z_vals = np.arange(.01, 1.1, .01)\n",
    "wmap_mag_offset = [calc_abs_mag_offset(WMAP9, z) for z in z_vals]\n",
    "plt.plot(z_vals, wmap_mag_offset)\n"
   ]
  },
  {
   "cell_type": "code",
   "execution_count": null,
   "metadata": {},
   "outputs": [],
   "source": []
  }
 ],
 "metadata": {
  "kernelspec": {
   "display_name": "Python [conda env:sn-pwv] *",
   "language": "python",
   "name": "conda-env-sn-pwv-py"
  },
  "language_info": {
   "codemirror_mode": {
    "name": "ipython",
    "version": 3
   },
   "file_extension": ".py",
   "mimetype": "text/x-python",
   "name": "python",
   "nbconvert_exporter": "python",
   "pygments_lexer": "ipython3",
   "version": "3.7.7"
  }
 },
 "nbformat": 4,
 "nbformat_minor": 4
}
